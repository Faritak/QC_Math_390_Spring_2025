{
 "cells": [
  {
   "cell_type": "markdown",
   "metadata": {},
   "source": [
    "## Course Assignment Instructions\n",
    "You should have Python (version 3.8 or later) and Jupyter Notebook installed to complete this assignment. You will write code in the empty cell/cells below the problem. While most of this will be a programming assignment, some questions will ask you to \"write a few sentences\" in markdown cells. \n",
    "\n",
    "Submission Instructions:\n",
    "\n",
    "Create a labs directory in your personal class repository (e.g., located in your home directory)\n",
    "Clone the class repository\n",
    "Copy this Jupyter notebook file (.ipynb) into your repo/labs directory\n",
    "Make your edits, commit changes, and push to your repository\n",
    "All submissions must be pushed before the due date to avoid late penalties"
   ]
  },
  {
   "cell_type": "markdown",
   "metadata": {},
   "source": [
    "* Install the numpy, scipy, statsmodels, and pandas packages (we will be using these throughout the semester)"
   ]
  },
  {
   "cell_type": "code",
   "execution_count": 1,
   "metadata": {},
   "outputs": [
    {
     "name": "stdout",
     "output_type": "stream",
     "text": [
      "Requirement already satisfied: numpy in /Applications/anaconda3/lib/python3.12/site-packages (1.26.4)\n",
      "Requirement already satisfied: scipy in /Applications/anaconda3/lib/python3.12/site-packages (1.13.1)\n",
      "Requirement already satisfied: statsmodels in /Applications/anaconda3/lib/python3.12/site-packages (0.14.2)\n",
      "Requirement already satisfied: pandas in /Applications/anaconda3/lib/python3.12/site-packages (2.2.2)\n",
      "Requirement already satisfied: patsy>=0.5.6 in /Applications/anaconda3/lib/python3.12/site-packages (from statsmodels) (0.5.6)\n",
      "Requirement already satisfied: packaging>=21.3 in /Applications/anaconda3/lib/python3.12/site-packages (from statsmodels) (24.1)\n",
      "Requirement already satisfied: python-dateutil>=2.8.2 in /Applications/anaconda3/lib/python3.12/site-packages (from pandas) (2.9.0.post0)\n",
      "Requirement already satisfied: pytz>=2020.1 in /Applications/anaconda3/lib/python3.12/site-packages (from pandas) (2024.1)\n",
      "Requirement already satisfied: tzdata>=2022.7 in /Applications/anaconda3/lib/python3.12/site-packages (from pandas) (2023.3)\n",
      "Requirement already satisfied: six in /Applications/anaconda3/lib/python3.12/site-packages (from patsy>=0.5.6->statsmodels) (1.16.0)\n",
      "Note: you may need to restart the kernel to use updated packages.\n"
     ]
    }
   ],
   "source": [
    "pip install numpy scipy statsmodels pandas"
   ]
  },
  {
   "cell_type": "markdown",
   "metadata": {},
   "source": [
    "* Print out the numerical constant pi with ten digits after the decimal point using constant 'pi'. You will need to use the math module in python for this. "
   ]
  },
  {
   "cell_type": "code",
   "execution_count": 2,
   "metadata": {
    "colab": {
     "base_uri": "https://localhost:8080/"
    },
    "id": "bnvDOejmkGVm",
    "outputId": "4c897e58-b256-48ec-8dd4-6a6b1ba72114"
   },
   "outputs": [
    {
     "name": "stdout",
     "output_type": "stream",
     "text": [
      "3.141592653589793\n",
      "3.1415926536\n"
     ]
    }
   ],
   "source": [
    "import math\n",
    "\n",
    "print(math.pi)\n",
    "print(round(math.pi, 10))"
   ]
  },
  {
   "cell_type": "markdown",
   "metadata": {
    "id": "Uavy5yJm7sLm"
   },
   "source": [
    "* Sum up the first 103 terms of the series 1 + 1/2 + 1/4 + 1/8 + ... use base python"
   ]
  },
  {
   "cell_type": "code",
   "execution_count": 42,
   "metadata": {
    "colab": {
     "base_uri": "https://localhost:8080/"
    },
    "id": "xRoIK9LW70-z",
    "outputId": "fb7d981e-d80e-4a2b-cb5a-9037d1a8bba9"
   },
   "outputs": [
    {
     "data": {
      "text/plain": [
       "2.0"
      ]
     },
     "execution_count": 42,
     "metadata": {},
     "output_type": "execute_result"
    }
   ],
   "source": [
    "sum(1/(2 ** i) for i in range(103))"
   ]
  },
  {
   "cell_type": "markdown",
   "metadata": {},
   "source": [
    "using numpy"
   ]
  },
  {
   "cell_type": "code",
   "execution_count": 46,
   "metadata": {
    "colab": {
     "base_uri": "https://localhost:8080/"
    },
    "id": "rn-pDnETQO7H",
    "outputId": "64add9d3-6314-46fc-a953-60e628a5dcf6"
   },
   "outputs": [
    {
     "name": "stdout",
     "output_type": "stream",
     "text": [
      "inf\n"
     ]
    },
    {
     "name": "stderr",
     "output_type": "stream",
     "text": [
      "/var/folders/vs/15_l4_0n3jj8jc7tlrdg4_yw0000gn/T/ipykernel_7431/2937037569.py:3: DeprecationWarning: Calling np.sum(generator) is deprecated, and in the future will give a different result. Use np.sum(np.fromiter(generator)) or the python sum builtin instead.\n",
      "  total = np.sum(1/(2 ** i) for i in np.arange(103))\n",
      "/var/folders/vs/15_l4_0n3jj8jc7tlrdg4_yw0000gn/T/ipykernel_7431/2937037569.py:3: RuntimeWarning: divide by zero encountered in scalar divide\n",
      "  total = np.sum(1/(2 ** i) for i in np.arange(103))\n"
     ]
    }
   ],
   "source": [
    "import numpy as np\n",
    "\n",
    "total = np.sum(1/(2 ** i) for i in np.arange(103))\n",
    "print(total)"
   ]
  },
  {
   "cell_type": "markdown",
   "metadata": {
    "id": "oQEj31GARHuP"
   },
   "source": [
    " * The issue here arises because NumPy's 2 ** np.arange(103) may overflow for very large exponents, leading to incorrect results. NumPy uses fixed-precision data types, which can cause problems when dealing with extremely large numbers.  * The issue here arises because NumPy's 2 ** np.arange(103) may overflow for very large exponents, leading to incorrect results. NumPy uses fixed-precision data types, which can cause problems when dealing with extremely large numbers."
   ]
  },
  {
   "cell_type": "code",
   "execution_count": 49,
   "metadata": {
    "colab": {
     "base_uri": "https://localhost:8080/"
    },
    "id": "4znUgZRjQwoD",
    "outputId": "d580e891-8291-4c4e-9abe-ff987a806201"
   },
   "outputs": [
    {
     "name": "stdout",
     "output_type": "stream",
     "text": [
      "2.0\n"
     ]
    },
    {
     "name": "stderr",
     "output_type": "stream",
     "text": [
      "/var/folders/vs/15_l4_0n3jj8jc7tlrdg4_yw0000gn/T/ipykernel_7431/1883823212.py:3: DeprecationWarning: Calling np.sum(generator) is deprecated, and in the future will give a different result. Use np.sum(np.fromiter(generator)) or the python sum builtin instead.\n",
      "  total = np.sum(1/(2.0 ** i) for i in range(103))\n"
     ]
    }
   ],
   "source": [
    "import numpy as np\n",
    "\n",
    "total = np.sum(1/(2.0 ** i) for i in range(103))\n",
    "print(total)"
   ]
  },
  {
   "cell_type": "markdown",
   "metadata": {
    "id": "p7X2hTJWRtuo"
   },
   "source": [
    "* Find the product of the first 387 terms of `1 * 1/2 * 1/4 * 1/8 *` ..."
   ]
  },
  {
   "cell_type": "markdown",
   "metadata": {
    "id": "fy1ZDTxJSL7_"
   },
   "source": [
    "using base python"
   ]
  },
  {
   "cell_type": "code",
   "execution_count": 51,
   "metadata": {
    "colab": {
     "base_uri": "https://localhost:8080/"
    },
    "id": "jp0AKiCiRxB9",
    "outputId": "d025dd82-9434-463f-f228-9d42d15ef398"
   },
   "outputs": [
    {
     "name": "stdout",
     "output_type": "stream",
     "text": [
      "0.0\n"
     ]
    }
   ],
   "source": [
    "bar = 1\n",
    "\n",
    "for i in range(387):\n",
    "    bar *= (1/2** i)\n",
    "print(bar)\n"
   ]
  },
  {
   "cell_type": "markdown",
   "metadata": {
    "id": "EPMSU8pySJtw"
   },
   "source": [
    "using numpy"
   ]
  },
  {
   "cell_type": "code",
   "execution_count": 11,
   "metadata": {
    "colab": {
     "base_uri": "https://localhost:8080/"
    },
    "id": "A2ctxQ1iRvG7",
    "outputId": "86d4b076-a029-4342-a1fb-6e1f0ac53c12"
   },
   "outputs": [
    {
     "name": "stdout",
     "output_type": "stream",
     "text": [
      "0.0\n"
     ]
    }
   ],
   "source": [
    "num = np.prod(1/(2.0 ** np.arange(387)))\n",
    "\n",
    "print(num)"
   ]
  },
  {
   "cell_type": "markdown",
   "metadata": {
    "id": "B4VQOLKYTPCj"
   },
   "source": [
    "Is this answer *exactly* correct?\n",
    "\n",
    "No, this answer is not exactly correct. The number should be positive although very small and the answer generated is a result of numerical underflow."
   ]
  },
  {
   "cell_type": "markdown",
   "metadata": {
    "id": "zFA5JJfzTJtX"
   },
   "source": [
    "* Figure out a means to express the answer more exactly. Not compute exactly, but express more exactly."
   ]
  },
  {
   "cell_type": "code",
   "execution_count": 53,
   "metadata": {
    "colab": {
     "base_uri": "https://localhost:8080/"
    },
    "id": "VIjX6xzAS-gf",
    "outputId": "9c704c4c-5656-4106-f969-0ebc7664222f"
   },
   "outputs": [
    {
     "data": {
      "text/plain": [
       "-51771.856063202875"
      ]
     },
     "execution_count": 53,
     "metadata": {},
     "output_type": "execute_result"
    }
   ],
   "source": [
    "import math as m\n",
    "\n",
    "total = 0\n",
    "\n",
    "-m.log(2)*(sum(range(387)))\n"
   ]
  },
  {
   "cell_type": "markdown",
   "metadata": {},
   "source": [
    "* using numpy ... Hint: use the `log` and `sum` functions in numpy"
   ]
  },
  {
   "cell_type": "code",
   "execution_count": 55,
   "metadata": {
    "colab": {
     "base_uri": "https://localhost:8080/"
    },
    "id": "GUqiwC3nS-oh",
    "outputId": "a98e5f2b-8391-40c6-a1a4-7535d1b971c9"
   },
   "outputs": [
    {
     "data": {
      "text/plain": [
       "-51771.856063202875"
      ]
     },
     "execution_count": 55,
     "metadata": {},
     "output_type": "execute_result"
    }
   ],
   "source": [
    "-np.log(2) * np.sum(np.arange(387))"
   ]
  },
  {
   "cell_type": "markdown",
   "metadata": {
    "id": "aykGSWDVVIkE"
   },
   "source": [
    "* Create the sequence `x = [Inf, 20, 18, ..., -20]`."
   ]
  },
  {
   "cell_type": "markdown",
   "metadata": {
    "id": "mLlQPD-VVCle"
   },
   "source": [
    "Pure python"
   ]
  },
  {
   "cell_type": "code",
   "execution_count": 75,
   "metadata": {
    "colab": {
     "base_uri": "https://localhost:8080/"
    },
    "id": "S8Mnf42kU5D3",
    "outputId": "b69d220c-b166-4f37-b013-067e1adaf73b"
   },
   "outputs": [
    {
     "name": "stdout",
     "output_type": "stream",
     "text": [
      "[       inf 4.19180655 4.17341725 4.15464877 4.13548513 4.11590934\n",
      " 4.09590327 4.0754476  4.05452164 4.03310326 4.01116872 3.98869254\n",
      " 3.96564727 3.94200337 3.91772888 3.89278926 3.86714702 3.84076143\n",
      " 3.81358809 3.78557852 3.75667961 3.72683303 3.69597451 3.66403301\n",
      " 3.63092975 3.59657703 3.5608768  3.52371901 3.48497958 3.44451785\n",
      " 3.4021735  3.35776278 3.31107361 3.26185951 3.20983168 3.15464877\n",
      " 3.09590327 3.03310326 2.96564727 2.89278926 2.81358809 2.72683303\n",
      " 2.63092975 2.52371901 2.4021735  2.26185951 2.09590327 1.89278926\n",
      " 1.63092975 1.26185951 0.63092975       -inf        nan        nan\n",
      "        nan        nan        nan        nan        nan        nan\n",
      "        nan        nan]\n"
     ]
    },
    {
     "name": "stderr",
     "output_type": "stream",
     "text": [
      "/var/folders/vs/15_l4_0n3jj8jc7tlrdg4_yw0000gn/T/ipykernel_7431/4147154379.py:4: RuntimeWarning: divide by zero encountered in log\n",
      "  x = np.log(sequence) / np.log(3)\n",
      "/var/folders/vs/15_l4_0n3jj8jc7tlrdg4_yw0000gn/T/ipykernel_7431/4147154379.py:4: RuntimeWarning: invalid value encountered in log\n",
      "  x = np.log(sequence) / np.log(3)\n"
     ]
    }
   ],
   "source": [
    "# Create the sequence\n",
    "sequence = [float('inf')] + list(range(100, -21, -2))\n",
    "\n",
    "x = np.log(sequence) / np.log(3)\n",
    "\n",
    "# Print the result\n",
    "print(x)"
   ]
  },
  {
   "cell_type": "markdown",
   "metadata": {
    "id": "ANVsEVzkU_N6"
   },
   "source": [
    "Using numpy"
   ]
  },
  {
   "cell_type": "code",
   "execution_count": 77,
   "metadata": {
    "colab": {
     "base_uri": "https://localhost:8080/"
    },
    "id": "pi0uutpUU5NA",
    "outputId": "db7fab14-b6d7-4619-9527-3b2aee8be37a"
   },
   "outputs": [
    {
     "name": "stdout",
     "output_type": "stream",
     "text": [
      "[inf, 20, 18, 16, 14, 12, 10, 8, 6, 4, 2, 0, -2, -4, -6, -8, -10, -12, -14, -16, -18, -20]\n"
     ]
    }
   ],
   "source": [
    "# Create the sequence\n",
    "x = [float('inf')] + list(np.arange(20, -22, -2))\n",
    "\n",
    "# Print the result\n",
    "print(x)"
   ]
  },
  {
   "cell_type": "markdown",
   "metadata": {
    "id": "8cu3L5kJVNU3"
   },
   "source": [
    "*   Create the sequence `x = [log_3(Inf), log_3(100), log_3(98), ... log_3(-20)]` ... Use `log` from numpy."
   ]
  },
  {
   "cell_type": "code",
   "execution_count": 79,
   "metadata": {
    "colab": {
     "base_uri": "https://localhost:8080/"
    },
    "id": "vud6_UONVRH8",
    "outputId": "d659e652-a527-4661-d651-1c23b6b61e88"
   },
   "outputs": [
    {
     "name": "stdout",
     "output_type": "stream",
     "text": [
      "[inf, 4.19180654857877, 4.173417251894302, 4.154648767857287, 4.135485128951194, 4.115909337343186, 4.095903274289384, 4.07544759935851, 4.0545216380691365, 4.0331032563043365, 4.011168719591413, 3.9886925350037563, 3.9656472730442496, 3.9420033663892897, 3.9177288817897304, 3.892789260714372, 3.8671470234508067, 3.8407614303054807, 3.813588092215595, 3.785578521428744, 3.756679610828472, 3.7268330278608417, 3.6959745056821194, 3.6640330098757947, 3.6309297535714573, 3.5965770266157073, 3.5608767950073115, 3.5237190142858297, 3.4849795837717283, 3.4445178457870527, 3.4021735027328797, 3.357762781432299, 3.3110736128178324, 3.2618595071429146, 3.2098316767340234, 3.154648767857287, 3.0959032742893844, 3.033103256304337, 2.96564727304425, 2.8927892607143724, 2.8135880922155954, 2.7268330278608417, 2.630929753571457, 2.5237190142858297, 2.402173502732879, 2.2618595071429146, 2.095903274289385, 1.892789260714372, 1.6309297535714573, 1.2618595071429148, 0.6309297535714574, -inf, nan, nan, nan, nan, nan, nan, nan, nan, nan, nan]\n"
     ]
    },
    {
     "name": "stderr",
     "output_type": "stream",
     "text": [
      "/var/folders/vs/15_l4_0n3jj8jc7tlrdg4_yw0000gn/T/ipykernel_7431/1075804181.py:2: RuntimeWarning: divide by zero encountered in log\n",
      "  x = [float('inf')] + list(np.log(np.arange(100, -21, -2)) / np.log(3))\n",
      "/var/folders/vs/15_l4_0n3jj8jc7tlrdg4_yw0000gn/T/ipykernel_7431/1075804181.py:2: RuntimeWarning: invalid value encountered in log\n",
      "  x = [float('inf')] + list(np.log(np.arange(100, -21, -2)) / np.log(3))\n"
     ]
    }
   ],
   "source": [
    "import numpy as np\n",
    "x = [float('inf')] + list(np.log(np.arange(100, -21, -2)) / np.log(3))\n",
    "\n",
    "print(x)"
   ]
  },
  {
   "cell_type": "markdown",
   "metadata": {
    "id": "Zb1X0R2Nav9g"
   },
   "source": [
    "* Create a vector of booleans where the entry is true if `x[i]` is positive and finite. Use `&` from base python along with `isnan` and `isinfinite` from numpy"
   ]
  },
  {
   "cell_type": "code",
   "execution_count": 81,
   "metadata": {
    "colab": {
     "base_uri": "https://localhost:8080/"
    },
    "id": "4Q_oZqgGViSO",
    "outputId": "93139bc4-3567-4408-b40e-34fb7fccdc0b"
   },
   "outputs": [
    {
     "name": "stdout",
     "output_type": "stream",
     "text": [
      "[False  True  True  True  True  True  True  True  True  True  True  True\n",
      "  True  True  True  True  True  True  True  True  True  True  True  True\n",
      "  True  True  True  True  True  True  True  True  True  True  True  True\n",
      "  True  True  True  True  True  True  True  True  True  True  True  True\n",
      "  True  True  True False False False False False False False False False\n",
      " False False]\n"
     ]
    }
   ],
   "source": [
    "import numpy as np\n",
    "x = np.array(x) \n",
    "y = ~np.isnan(x) & np.isfinite(x) & (x > 0)\n",
    "\n",
    "print(y)"
   ]
  },
  {
   "cell_type": "markdown",
   "metadata": {
    "id": "9mtTSGAua4kJ"
   },
   "source": [
    "* Locate the indices of the non-real numbers in this vector. Numpy has a `where` function in lieu of R's `which`"
   ]
  },
  {
   "cell_type": "code",
   "execution_count": 83,
   "metadata": {
    "colab": {
     "base_uri": "https://localhost:8080/"
    },
    "id": "ROPylzDFaQ6C",
    "outputId": "dc23b4b7-acc9-49af-b2d0-19eb5ead974c"
   },
   "outputs": [
    {
     "name": "stdout",
     "output_type": "stream",
     "text": [
      "[ 0 51 52 53 54 55 56 57 58 59 60 61]\n"
     ]
    }
   ],
   "source": [
    "false_indices = np.where(y==False)[0]\n",
    "print(false_indices)"
   ]
  },
  {
   "cell_type": "markdown",
   "metadata": {
    "id": "b0UOuLWlbCrX"
   },
   "source": [
    "* Locate the indices of the infinite quantities in this vector using `where` and `isinf` from numpy."
   ]
  },
  {
   "cell_type": "code",
   "execution_count": 89,
   "metadata": {
    "colab": {
     "base_uri": "https://localhost:8080/"
    },
    "id": "qxleb46Kah7O",
    "outputId": "bebf0016-acce-4df3-9317-faa1613e8dad"
   },
   "outputs": [
    {
     "name": "stdout",
     "output_type": "stream",
     "text": [
      "[ 0 51]\n"
     ]
    }
   ],
   "source": [
    "infin_indices = np.where(np.isinf(x))[0]\n",
    "print(infin_indices)"
   ]
  },
  {
   "cell_type": "markdown",
   "metadata": {
    "id": "jy81AOKHbdtI"
   },
   "source": [
    "* Locate the indices of the min and max in this vector. Hint: use the `arg.min` and `arg.max` functions from numpy"
   ]
  },
  {
   "cell_type": "code",
   "execution_count": 93,
   "metadata": {
    "colab": {
     "base_uri": "https://localhost:8080/"
    },
    "id": "5aLvgov5bJ0D",
    "outputId": "880b4174-f433-47a3-bb1d-1caf83b97469"
   },
   "outputs": [
    {
     "name": "stdout",
     "output_type": "stream",
     "text": [
      "[0, 51]\n"
     ]
    }
   ],
   "source": [
    "xs = [i for i in x if (~np.isnan(i))]\n",
    "#print(xs)\n",
    "r = [np.argmax(xs), np.argmin(xs)]\n",
    "\n",
    "print(r)"
   ]
  },
  {
   "cell_type": "markdown",
   "metadata": {
    "id": "oRIpi-b2b9KD"
   },
   "source": [
    "* Count the number of unique values in `x`. Use `unique` from numpy."
   ]
  },
  {
   "cell_type": "code",
   "execution_count": 97,
   "metadata": {
    "colab": {
     "base_uri": "https://localhost:8080/"
    },
    "id": "no85_We5bry1",
    "outputId": "af1283fa-e34e-4472-bcb2-72210ff9eda6"
   },
   "outputs": [
    {
     "name": "stdout",
     "output_type": "stream",
     "text": [
      "53\n"
     ]
    }
   ],
   "source": [
    "print(np.unique(x).size)"
   ]
  },
  {
   "cell_type": "markdown",
   "metadata": {
    "id": "oHRN70mTcHsB"
   },
   "source": [
    "* Cast `x` to a factor. Do the number of levels make sense? Should be 53 unique values. Use `categorical` from pandas."
   ]
  },
  {
   "cell_type": "code",
   "execution_count": 99,
   "metadata": {
    "colab": {
     "base_uri": "https://localhost:8080/"
    },
    "id": "nduGObKldhd9",
    "outputId": "1abf3207-ffe6-4931-8c49-e1182162afa0"
   },
   "outputs": [
    {
     "name": "stdout",
     "output_type": "stream",
     "text": [
      "Factor levels: Index([              -inf, 0.6309297535714574, 1.2618595071429148,\n",
      "       1.6309297535714573,  1.892789260714372,  2.095903274289385,\n",
      "       2.2618595071429146,  2.402173502732879, 2.5237190142858297,\n",
      "        2.630929753571457, 2.7268330278608417, 2.8135880922155954,\n",
      "       2.8927892607143724,   2.96564727304425,  3.033103256304337,\n",
      "       3.0959032742893844,  3.154648767857287, 3.2098316767340234,\n",
      "       3.2618595071429146, 3.3110736128178324,  3.357762781432299,\n",
      "       3.4021735027328797, 3.4445178457870527, 3.4849795837717283,\n",
      "       3.5237190142858297, 3.5608767950073115, 3.5965770266157073,\n",
      "       3.6309297535714573, 3.6640330098757947, 3.6959745056821194,\n",
      "       3.7268330278608417,  3.756679610828472,  3.785578521428744,\n",
      "        3.813588092215595, 3.8407614303054807, 3.8671470234508067,\n",
      "        3.892789260714372, 3.9177288817897304, 3.9420033663892897,\n",
      "       3.9656472730442496, 3.9886925350037563,  4.011168719591413,\n",
      "       4.0331032563043365, 4.0545216380691365,   4.07544759935851,\n",
      "        4.095903274289384,  4.115909337343186,  4.135485128951194,\n",
      "        4.154648767857287,  4.173417251894302,   4.19180654857877,\n",
      "                      inf],\n",
      "      dtype='float64')\n",
      "Number of levels: 52\n"
     ]
    }
   ],
   "source": [
    "import pandas as pd\n",
    "\n",
    "# Cast x to a categorical (similar to as.factor(x) in R)\n",
    "x_factor = pd.Categorical(x)\n",
    "\n",
    "# Check the unique levels (categories)\n",
    "levels = x_factor.categories\n",
    "num_levels = len(levels)\n",
    "\n",
    "print(f\"Factor levels: {levels}\")\n",
    "print(f\"Number of levels: {num_levels}\")"
   ]
  },
  {
   "cell_type": "markdown",
   "metadata": {
    "id": "IorrCNzsdnSe"
   },
   "source": [
    "* In Python, using pandas, NaN is not treated as a level in a categorical type by default. Pandas does not allow NaN to be a category. To include NaN as a level, you need to explicitly handle it by filling them with a placeholder value (like \"NaN\" or a specific number) before making the data categorical. Use `categorical` and `isna` from pandas."
   ]
  },
  {
   "cell_type": "code",
   "execution_count": 101,
   "metadata": {
    "colab": {
     "base_uri": "https://localhost:8080/"
    },
    "id": "hSd4wayScFtz",
    "outputId": "02f6d619-363c-49c3-e4e7-edd651a8d2c7"
   },
   "outputs": [
    {
     "name": "stdout",
     "output_type": "stream",
     "text": [
      "Factor levels (including NaN): Index([              -inf, 0.6309297535714574, 1.2618595071429148,\n",
      "       1.6309297535714573,  1.892789260714372,  2.095903274289385,\n",
      "       2.2618595071429146,  2.402173502732879, 2.5237190142858297,\n",
      "        2.630929753571457, 2.7268330278608417, 2.8135880922155954,\n",
      "       2.8927892607143724,   2.96564727304425,  3.033103256304337,\n",
      "       3.0959032742893844,  3.154648767857287, 3.2098316767340234,\n",
      "       3.2618595071429146, 3.3110736128178324,  3.357762781432299,\n",
      "       3.4021735027328797, 3.4445178457870527, 3.4849795837717283,\n",
      "       3.5237190142858297, 3.5608767950073115, 3.5965770266157073,\n",
      "       3.6309297535714573, 3.6640330098757947, 3.6959745056821194,\n",
      "       3.7268330278608417,  3.756679610828472,  3.785578521428744,\n",
      "        3.813588092215595, 3.8407614303054807, 3.8671470234508067,\n",
      "        3.892789260714372, 3.9177288817897304, 3.9420033663892897,\n",
      "       3.9656472730442496, 3.9886925350037563,  4.011168719591413,\n",
      "       4.0331032563043365, 4.0545216380691365,   4.07544759935851,\n",
      "        4.095903274289384,  4.115909337343186,  4.135485128951194,\n",
      "        4.154648767857287,  4.173417251894302,   4.19180654857877,\n",
      "                      inf,              'NaN'],\n",
      "      dtype='object')\n",
      "Number of levels: 53\n"
     ]
    }
   ],
   "source": [
    "# Replace NaN with a placeholder value (e.g., 'NaN')\n",
    "x_filled = [val if not pd.isna(val) else 'NaN' for val in x]\n",
    "\n",
    "# Convert to categorical\n",
    "x_factor = pd.Categorical(x_filled)\n",
    "\n",
    "# Check the unique levels (including 'NaN' as a level)\n",
    "factor_levels = x_factor.categories\n",
    "num_levels = len(factor_levels)\n",
    "\n",
    "print(f\"Factor levels (including NaN): {factor_levels}\")\n",
    "print(f\"Number of levels: {num_levels}\")"
   ]
  },
  {
   "cell_type": "markdown",
   "metadata": {
    "id": "w4o3ULW7eICC"
   },
   "source": [
    "* Cast `x` to integers. Use `where`, `isinfinite` from numpy and `astype` from base python."
   ]
  },
  {
   "cell_type": "code",
   "execution_count": 105,
   "metadata": {
    "colab": {
     "base_uri": "https://localhost:8080/"
    },
    "id": "CHtCOU1wcfld",
    "outputId": "a1aefd63-5ffc-4dfa-9e8b-3c9e00bfaa25"
   },
   "outputs": [
    {
     "data": {
      "text/plain": [
       "array([0, 4, 4, 4, 4, 4, 4, 4, 4, 4, 4, 3, 3, 3, 3, 3, 3, 3, 3, 3, 3, 3,\n",
       "       3, 3, 3, 3, 3, 3, 3, 3, 3, 3, 3, 3, 3, 3, 3, 3, 2, 2, 2, 2, 2, 2,\n",
       "       2, 2, 2, 1, 1, 1, 0, 0, 0, 0, 0, 0, 0, 0, 0, 0, 0, 0])"
      ]
     },
     "execution_count": 105,
     "metadata": {},
     "output_type": "execute_result"
    }
   ],
   "source": [
    "replaced_inf_x = np.where(np.isfinite(x), x, 0) #putting the cursor at the front of the parentheses and clicking shift+tab shows information about what it can take\n",
    "int_x = replaced_inf_x.astype(int)\n",
    "int_x\n"
   ]
  },
  {
   "cell_type": "markdown",
   "metadata": {
    "id": "X3zDD-zgeyRf"
   },
   "source": [
    "* Use `x` to create a new vector `y` containing only the real numbers in x. Use `isnan`, `logical_and`, and `reduce` from numpy"
   ]
  },
  {
   "cell_type": "code",
   "execution_count": 114,
   "metadata": {
    "colab": {
     "base_uri": "https://localhost:8080/"
    },
    "id": "nLNq9Pr8eiHD",
    "outputId": "0c69bf4b-5d73-4a03-dd85-726efe122b63"
   },
   "outputs": [
    {
     "name": "stdout",
     "output_type": "stream",
     "text": [
      "[4.19180655 4.17341725 4.15464877 4.13548513 4.11590934 4.09590327\n",
      " 4.0754476  4.05452164 4.03310326 4.01116872 3.98869254 3.96564727\n",
      " 3.94200337 3.91772888 3.89278926 3.86714702 3.84076143 3.81358809\n",
      " 3.78557852 3.75667961 3.72683303 3.69597451 3.66403301 3.63092975\n",
      " 3.59657703 3.5608768  3.52371901 3.48497958 3.44451785 3.4021735\n",
      " 3.35776278 3.31107361 3.26185951 3.20983168 3.15464877 3.09590327\n",
      " 3.03310326 2.96564727 2.89278926 2.81358809 2.72683303 2.63092975\n",
      " 2.52371901 2.4021735  2.26185951 2.09590327 1.89278926 1.63092975\n",
      " 1.26185951 0.63092975]\n"
     ]
    }
   ],
   "source": [
    "y = x[np.logical_and.reduce((~np.isnan(x), np.isfinite(x), x > 0))]\n",
    "print(y)"
   ]
  },
  {
   "cell_type": "markdown",
   "metadata": {
    "id": "S8qnxXNqt3JE"
   },
   "source": [
    "* Use the left rectangle method to numerically integrate x^2 from 0 to 1 with rectangle width size 1e-6. Use `arrange` and `sum` from numpy"
   ]
  },
  {
   "cell_type": "code",
   "execution_count": 116,
   "metadata": {
    "colab": {
     "base_uri": "https://localhost:8080/"
    },
    "id": "W3zsckaxt32K",
    "outputId": "461405b1-dfc1-4f46-ed5c-5b4ce2fd3e93"
   },
   "outputs": [
    {
     "name": "stdout",
     "output_type": "stream",
     "text": [
      "0.33333283333349994\n"
     ]
    }
   ],
   "source": [
    "# Define the rectangle width\n",
    "width = 1e-6\n",
    "\n",
    "# Create the sequence for the left endpoints (similar to seq in R)\n",
    "x = np.arange(0, 1, width)\n",
    "\n",
    "# Compute the sum using the left rectangle method\n",
    "approximation = np.sum(x ** 2) * width\n",
    "\n",
    "# Print the result\n",
    "print(approximation)\n"
   ]
  },
  {
   "cell_type": "markdown",
   "metadata": {
    "id": "LFF_X0FKuyD4"
   },
   "source": [
    "* Calculate the average of 100 realizations of standard Bernoullis in one line using the numpy's random.choice function."
   ]
  },
  {
   "cell_type": "code",
   "execution_count": 120,
   "metadata": {
    "colab": {
     "base_uri": "https://localhost:8080/"
    },
    "id": "JdeauzBkuVTr",
    "outputId": "cdfb63d0-43b5-4fa9-e6ad-5f0d5cd9efdd"
   },
   "outputs": [
    {
     "data": {
      "text/plain": [
       "0.51"
      ]
     },
     "execution_count": 120,
     "metadata": {},
     "output_type": "execute_result"
    }
   ],
   "source": [
    "mean_bern = np.mean(np.random.choice([0,1],size = 100, replace = True))\n",
    "mean_bern"
   ]
  },
  {
   "cell_type": "markdown",
   "metadata": {
    "id": "I9wgl1ycvvTx"
   },
   "source": [
    "* Calculate the average of 500 realizations of Bernoullis with p = 0.9 in one line using the `random.choice` and `mean` functions in numpy."
   ]
  },
  {
   "cell_type": "code",
   "execution_count": 130,
   "metadata": {
    "colab": {
     "base_uri": "https://localhost:8080/"
    },
    "id": "ZcichNlevpph",
    "outputId": "b0b4181a-188d-4813-c5df-e907dac6c3a9"
   },
   "outputs": [
    {
     "data": {
      "text/plain": [
       "0.87"
      ]
     },
     "execution_count": 130,
     "metadata": {},
     "output_type": "execute_result"
    }
   ],
   "source": [
    "np.mean(np.random.choice([0,1], p=[0.1, 0.9], replace = True, size = 500))"
   ]
  },
  {
   "cell_type": "markdown",
   "metadata": {
    "id": "pr9oLtR0wdqq"
   },
   "source": [
    "* Calculate the average of 1000 realizations of Bernoullis with p = 0.9 in one line using `binom` from scipy.stats."
   ]
  },
  {
   "cell_type": "code",
   "execution_count": 136,
   "metadata": {
    "colab": {
     "base_uri": "https://localhost:8080/"
    },
    "id": "iDMM_OyCwPc1",
    "outputId": "38864a97-d646-4025-952e-24504a7c056c"
   },
   "outputs": [
    {
     "name": "stdout",
     "output_type": "stream",
     "text": [
      "0.902\n"
     ]
    }
   ],
   "source": [
    "from scipy.stats import binom\n",
    "\n",
    "x = binom.rvs(n = 1, p = 0.9, size = 1000).mean() \n",
    "print(x)"
   ]
  },
  {
   "cell_type": "markdown",
   "metadata": {
    "id": "pZuC50jpw35z"
   },
   "source": [
    "* Let `n = 50`. Create a n x n matrix `R` of exactly 50% entries 0's, 25% 1's 25% 2's. These values should be in random locations."
   ]
  },
  {
   "cell_type": "code",
   "execution_count": 138,
   "metadata": {
    "colab": {
     "base_uri": "https://localhost:8080/"
    },
    "id": "YhA5CdjRwzIb",
    "outputId": "b95c17ad-e8af-4edd-cfa7-3f8260d6781c"
   },
   "outputs": [
    {
     "name": "stdout",
     "output_type": "stream",
     "text": [
      "    0   1   2   3   4   5   6   7   8   9   ...  40  41  42  43  44  45  46  \\\n",
      "0    1   0   0   2   0   0   0   1   2   0  ...   2   0   0   0   0   0   1   \n",
      "1    1   2   0   1   0   2   2   1   2   2  ...   1   1   0   0   1   1   1   \n",
      "2    1   0   0   1   0   0   1   1   0   0  ...   2   0   0   0   2   1   2   \n",
      "3    2   2   1   1   0   0   1   1   2   2  ...   0   1   0   2   0   0   0   \n",
      "4    0   0   1   0   2   0   0   2   1   2  ...   2   0   1   0   0   0   0   \n",
      "5    1   1   1   1   1   1   2   1   1   0  ...   2   2   2   0   2   2   1   \n",
      "6    0   0   0   1   2   2   0   0   1   0  ...   0   0   0   2   0   2   0   \n",
      "7    0   0   1   0   2   0   1   2   1   0  ...   0   0   1   0   2   1   0   \n",
      "8    1   2   0   2   0   0   2   2   0   2  ...   2   0   0   1   1   0   2   \n",
      "9    1   0   2   0   0   2   2   2   0   0  ...   2   0   1   0   0   0   2   \n",
      "10   1   2   0   0   1   1   1   1   0   2  ...   0   1   2   0   1   1   0   \n",
      "11   0   1   2   1   1   1   0   0   0   0  ...   0   0   0   0   0   0   0   \n",
      "12   0   0   0   1   0   1   0   2   0   1  ...   0   0   1   2   2   1   0   \n",
      "13   2   1   2   1   0   2   0   0   0   0  ...   0   1   0   0   2   2   1   \n",
      "14   0   0   2   0   0   2   2   1   2   0  ...   1   1   1   0   2   0   0   \n",
      "15   2   1   1   1   0   1   0   0   0   0  ...   0   2   0   1   2   0   1   \n",
      "16   0   0   0   0   1   0   1   0   0   0  ...   0   0   1   1   1   1   0   \n",
      "17   1   0   1   0   1   2   1   1   0   1  ...   2   2   0   0   2   0   0   \n",
      "18   1   1   1   2   2   0   1   1   1   0  ...   2   2   2   0   2   0   0   \n",
      "19   0   1   0   2   1   0   0   0   1   2  ...   0   0   0   2   1   0   1   \n",
      "20   0   1   1   1   0   2   0   1   0   2  ...   0   0   2   2   1   0   0   \n",
      "21   0   1   0   2   1   0   0   1   2   2  ...   0   0   0   1   2   2   0   \n",
      "22   0   2   0   0   1   0   0   2   0   2  ...   2   2   0   1   2   0   0   \n",
      "23   2   0   2   0   0   0   1   0   0   0  ...   2   2   2   1   0   2   0   \n",
      "24   2   2   1   0   0   1   1   0   1   0  ...   0   2   0   0   0   1   0   \n",
      "25   1   0   2   1   0   1   2   2   0   0  ...   1   1   0   0   1   1   0   \n",
      "26   0   0   0   0   1   0   1   0   0   2  ...   2   0   2   0   2   0   0   \n",
      "27   2   0   0   2   0   0   0   0   1   2  ...   0   0   0   0   2   1   0   \n",
      "28   0   1   0   1   0   0   1   0   0   2  ...   0   2   0   2   2   1   1   \n",
      "29   1   1   0   0   1   0   0   0   1   0  ...   0   0   0   0   0   0   0   \n",
      "30   0   2   0   1   0   0   0   1   2   0  ...   0   1   0   1   0   0   0   \n",
      "31   0   1   1   2   1   0   1   0   0   0  ...   1   0   0   0   0   2   0   \n",
      "32   0   2   1   0   1   1   2   0   0   0  ...   2   0   0   0   1   1   0   \n",
      "33   0   0   2   2   2   2   1   0   0   0  ...   0   1   1   0   0   0   0   \n",
      "34   0   1   2   1   2   0   0   0   2   0  ...   0   0   0   0   1   1   0   \n",
      "35   2   1   1   0   1   0   1   1   2   2  ...   0   2   0   2   0   2   2   \n",
      "36   2   2   0   0   0   0   0   0   0   1  ...   1   1   2   1   1   0   0   \n",
      "37   1   0   2   0   2   2   0   2   0   1  ...   0   0   1   0   1   1   0   \n",
      "38   0   0   1   0   1   1   0   0   1   0  ...   1   0   2   0   0   2   2   \n",
      "39   0   1   1   0   1   0   1   0   2   0  ...   0   0   0   2   0   2   2   \n",
      "40   0   0   0   0   0   0   0   0   0   0  ...   1   0   1   0   2   0   2   \n",
      "41   0   0   0   2   0   0   0   2   0   2  ...   0   2   2   2   2   1   1   \n",
      "42   0   0   2   0   1   0   1   1   2   0  ...   1   0   0   2   0   0   1   \n",
      "43   0   0   0   2   0   0   0   0   0   0  ...   2   0   0   1   2   1   2   \n",
      "44   0   2   2   2   1   0   2   2   0   0  ...   0   0   2   2   0   2   0   \n",
      "45   1   0   2   1   0   0   0   2   0   0  ...   0   2   2   2   0   0   1   \n",
      "46   2   0   1   1   0   1   0   1   0   0  ...   0   2   1   0   0   0   0   \n",
      "47   2   0   1   1   2   2   2   0   0   0  ...   0   0   2   1   0   0   0   \n",
      "48   0   0   0   2   0   0   1   1   0   0  ...   2   0   0   1   2   1   2   \n",
      "49   1   1   0   2   1   2   1   2   0   1  ...   0   0   0   1   0   2   0   \n",
      "\n",
      "    47  48  49  \n",
      "0    2   1   1  \n",
      "1    0   2   0  \n",
      "2    1   1   0  \n",
      "3    0   2   0  \n",
      "4    1   2   1  \n",
      "5    2   0   1  \n",
      "6    0   2   2  \n",
      "7    0   2   0  \n",
      "8    1   2   1  \n",
      "9    1   0   1  \n",
      "10   0   2   0  \n",
      "11   2   0   1  \n",
      "12   0   2   1  \n",
      "13   0   0   1  \n",
      "14   0   0   1  \n",
      "15   2   0   1  \n",
      "16   2   0   1  \n",
      "17   1   0   0  \n",
      "18   1   2   0  \n",
      "19   2   0   0  \n",
      "20   2   0   2  \n",
      "21   1   2   1  \n",
      "22   2   0   0  \n",
      "23   0   2   0  \n",
      "24   0   1   1  \n",
      "25   0   2   0  \n",
      "26   0   0   0  \n",
      "27   0   2   0  \n",
      "28   1   2   0  \n",
      "29   0   1   1  \n",
      "30   2   2   1  \n",
      "31   0   1   0  \n",
      "32   2   2   2  \n",
      "33   0   0   0  \n",
      "34   0   0   2  \n",
      "35   2   2   2  \n",
      "36   2   1   0  \n",
      "37   1   2   0  \n",
      "38   0   0   1  \n",
      "39   1   2   0  \n",
      "40   0   1   0  \n",
      "41   0   2   0  \n",
      "42   0   0   0  \n",
      "43   2   2   1  \n",
      "44   1   0   0  \n",
      "45   0   1   0  \n",
      "46   0   1   0  \n",
      "47   2   1   0  \n",
      "48   1   1   0  \n",
      "49   0   0   0  \n",
      "\n",
      "[50 rows x 50 columns]\n"
     ]
    }
   ],
   "source": [
    "import pandas as pd\n",
    "\n",
    "# Set n\n",
    "n = 50\n",
    "\n",
    "# Generate the random values with specified proportions\n",
    "values = np.random.permutation(\n",
    "    np.concatenate([\n",
    "        np.full(int(n * n * 0.5), 0),  # 50% 0's\n",
    "        np.full(int(n * n * 0.25), 1), # 25% 1's\n",
    "        np.full(int(n * n * 0.25), 2)  # 25% 2's\n",
    "    ])\n",
    ")\n",
    "\n",
    "# Reshape the values into an n x n matrix\n",
    "R = values.reshape(n, n)\n",
    "\n",
    "# Convert the matrix into a DataFrame\n",
    "df = pd.DataFrame(R)\n",
    "\n",
    "# Print the DataFrame\n",
    "print(df)"
   ]
  },
  {
   "cell_type": "markdown",
   "metadata": {
    "id": "nP6M8hfrxWUJ"
   },
   "source": [
    "* Randomly punch holes (i.e. `NA`) values in this matrix so that an each entry is missing with probability 30%."
   ]
  },
  {
   "cell_type": "code",
   "execution_count": 140,
   "metadata": {
    "colab": {
     "base_uri": "https://localhost:8080/"
    },
    "id": "ffLrQxVTydX9",
    "outputId": "971f187e-4642-4ae7-d01e-4629b165e40d"
   },
   "outputs": [
    {
     "name": "stdout",
     "output_type": "stream",
     "text": [
      "     0    1    2    3    4    5    6    7    8    9   ...   40   41   42   43  \\\n",
      "0   NaN  0.0  0.0  2.0  0.0  0.0  NaN  NaN  2.0  NaN  ...  2.0  NaN  NaN  NaN   \n",
      "1   1.0  NaN  0.0  1.0  0.0  NaN  2.0  1.0  2.0  NaN  ...  1.0  1.0  0.0  0.0   \n",
      "2   1.0  0.0  NaN  NaN  0.0  0.0  NaN  NaN  0.0  0.0  ...  2.0  0.0  0.0  0.0   \n",
      "3   2.0  2.0  1.0  1.0  NaN  0.0  1.0  1.0  NaN  2.0  ...  NaN  1.0  NaN  2.0   \n",
      "4   0.0  0.0  1.0  0.0  NaN  0.0  0.0  2.0  1.0  2.0  ...  NaN  NaN  1.0  0.0   \n",
      "5   1.0  NaN  1.0  1.0  1.0  1.0  NaN  1.0  1.0  0.0  ...  2.0  NaN  NaN  0.0   \n",
      "6   0.0  0.0  0.0  1.0  2.0  2.0  0.0  NaN  NaN  0.0  ...  NaN  0.0  0.0  NaN   \n",
      "7   0.0  0.0  1.0  0.0  NaN  0.0  NaN  2.0  1.0  NaN  ...  NaN  NaN  1.0  NaN   \n",
      "8   1.0  NaN  0.0  2.0  0.0  NaN  NaN  NaN  0.0  NaN  ...  2.0  0.0  NaN  NaN   \n",
      "9   NaN  0.0  2.0  0.0  0.0  2.0  NaN  2.0  0.0  0.0  ...  NaN  NaN  NaN  NaN   \n",
      "10  NaN  2.0  0.0  0.0  1.0  NaN  1.0  1.0  NaN  2.0  ...  0.0  1.0  2.0  NaN   \n",
      "11  0.0  NaN  NaN  1.0  NaN  1.0  0.0  0.0  0.0  0.0  ...  NaN  0.0  NaN  0.0   \n",
      "12  0.0  NaN  0.0  NaN  NaN  NaN  0.0  NaN  0.0  NaN  ...  0.0  0.0  NaN  2.0   \n",
      "13  2.0  1.0  NaN  NaN  0.0  2.0  0.0  0.0  0.0  NaN  ...  NaN  1.0  0.0  0.0   \n",
      "14  0.0  0.0  2.0  0.0  0.0  NaN  2.0  NaN  2.0  0.0  ...  1.0  NaN  NaN  0.0   \n",
      "15  NaN  1.0  1.0  1.0  0.0  NaN  NaN  0.0  NaN  0.0  ...  0.0  NaN  NaN  1.0   \n",
      "16  0.0  NaN  0.0  NaN  NaN  0.0  1.0  0.0  0.0  0.0  ...  0.0  0.0  NaN  1.0   \n",
      "17  1.0  0.0  1.0  0.0  1.0  2.0  1.0  NaN  0.0  1.0  ...  2.0  2.0  0.0  0.0   \n",
      "18  1.0  NaN  1.0  NaN  2.0  NaN  1.0  1.0  1.0  0.0  ...  2.0  2.0  NaN  0.0   \n",
      "19  0.0  1.0  0.0  2.0  NaN  NaN  0.0  0.0  1.0  2.0  ...  0.0  NaN  0.0  2.0   \n",
      "20  0.0  1.0  1.0  1.0  0.0  2.0  NaN  NaN  0.0  2.0  ...  0.0  0.0  2.0  2.0   \n",
      "21  0.0  1.0  NaN  2.0  1.0  0.0  NaN  1.0  2.0  NaN  ...  0.0  0.0  0.0  NaN   \n",
      "22  0.0  2.0  0.0  0.0  1.0  0.0  0.0  NaN  0.0  2.0  ...  2.0  2.0  0.0  1.0   \n",
      "23  NaN  NaN  2.0  0.0  0.0  0.0  1.0  0.0  0.0  0.0  ...  2.0  2.0  2.0  1.0   \n",
      "24  2.0  NaN  1.0  0.0  0.0  1.0  NaN  0.0  1.0  0.0  ...  0.0  2.0  0.0  NaN   \n",
      "25  1.0  0.0  NaN  NaN  0.0  1.0  NaN  2.0  0.0  0.0  ...  1.0  1.0  0.0  0.0   \n",
      "26  NaN  0.0  0.0  NaN  1.0  NaN  NaN  NaN  0.0  2.0  ...  NaN  0.0  NaN  0.0   \n",
      "27  2.0  NaN  0.0  NaN  0.0  0.0  0.0  NaN  1.0  NaN  ...  0.0  0.0  0.0  0.0   \n",
      "28  0.0  1.0  0.0  NaN  0.0  0.0  1.0  NaN  0.0  2.0  ...  NaN  2.0  0.0  2.0   \n",
      "29  1.0  1.0  0.0  0.0  1.0  0.0  0.0  0.0  NaN  NaN  ...  0.0  0.0  0.0  0.0   \n",
      "30  0.0  2.0  NaN  NaN  0.0  NaN  0.0  1.0  2.0  NaN  ...  0.0  1.0  0.0  1.0   \n",
      "31  0.0  1.0  1.0  NaN  NaN  0.0  1.0  0.0  0.0  0.0  ...  1.0  0.0  0.0  0.0   \n",
      "32  0.0  2.0  NaN  0.0  1.0  NaN  2.0  0.0  0.0  0.0  ...  NaN  NaN  NaN  NaN   \n",
      "33  0.0  NaN  2.0  2.0  NaN  2.0  1.0  0.0  NaN  0.0  ...  0.0  1.0  1.0  0.0   \n",
      "34  0.0  NaN  2.0  NaN  2.0  NaN  NaN  0.0  NaN  0.0  ...  0.0  0.0  0.0  NaN   \n",
      "35  2.0  1.0  1.0  0.0  1.0  0.0  1.0  1.0  NaN  2.0  ...  0.0  2.0  0.0  NaN   \n",
      "36  2.0  2.0  0.0  0.0  NaN  0.0  NaN  0.0  NaN  NaN  ...  1.0  1.0  NaN  1.0   \n",
      "37  NaN  0.0  2.0  NaN  NaN  2.0  NaN  NaN  0.0  1.0  ...  0.0  NaN  1.0  0.0   \n",
      "38  0.0  NaN  NaN  0.0  1.0  NaN  0.0  0.0  1.0  NaN  ...  1.0  0.0  2.0  0.0   \n",
      "39  0.0  1.0  NaN  NaN  1.0  0.0  1.0  0.0  2.0  0.0  ...  0.0  0.0  0.0  2.0   \n",
      "40  0.0  0.0  NaN  NaN  NaN  0.0  NaN  0.0  NaN  0.0  ...  1.0  0.0  1.0  NaN   \n",
      "41  0.0  0.0  0.0  NaN  0.0  0.0  0.0  NaN  0.0  2.0  ...  0.0  NaN  2.0  2.0   \n",
      "42  0.0  0.0  NaN  0.0  1.0  0.0  NaN  1.0  2.0  0.0  ...  1.0  NaN  0.0  2.0   \n",
      "43  0.0  0.0  0.0  2.0  0.0  0.0  0.0  0.0  0.0  0.0  ...  2.0  NaN  NaN  1.0   \n",
      "44  0.0  2.0  2.0  2.0  1.0  0.0  2.0  2.0  NaN  NaN  ...  0.0  0.0  NaN  2.0   \n",
      "45  NaN  0.0  NaN  NaN  0.0  0.0  0.0  2.0  NaN  NaN  ...  0.0  NaN  2.0  2.0   \n",
      "46  NaN  0.0  NaN  NaN  0.0  1.0  NaN  1.0  0.0  0.0  ...  0.0  2.0  NaN  NaN   \n",
      "47  2.0  0.0  1.0  1.0  2.0  2.0  2.0  0.0  0.0  NaN  ...  0.0  0.0  2.0  1.0   \n",
      "48  NaN  0.0  0.0  2.0  0.0  0.0  1.0  1.0  NaN  NaN  ...  2.0  0.0  NaN  1.0   \n",
      "49  1.0  1.0  NaN  2.0  1.0  2.0  1.0  NaN  0.0  1.0  ...  0.0  NaN  NaN  NaN   \n",
      "\n",
      "     44   45   46   47   48   49  \n",
      "0   0.0  0.0  1.0  NaN  1.0  1.0  \n",
      "1   NaN  1.0  1.0  0.0  2.0  NaN  \n",
      "2   NaN  NaN  2.0  1.0  1.0  0.0  \n",
      "3   0.0  0.0  0.0  0.0  2.0  0.0  \n",
      "4   NaN  0.0  NaN  1.0  2.0  NaN  \n",
      "5   2.0  2.0  1.0  2.0  NaN  NaN  \n",
      "6   0.0  NaN  NaN  0.0  2.0  2.0  \n",
      "7   2.0  1.0  0.0  0.0  NaN  0.0  \n",
      "8   1.0  0.0  NaN  1.0  NaN  NaN  \n",
      "9   0.0  0.0  2.0  1.0  NaN  1.0  \n",
      "10  NaN  1.0  0.0  0.0  NaN  NaN  \n",
      "11  0.0  0.0  0.0  2.0  NaN  1.0  \n",
      "12  2.0  1.0  NaN  NaN  2.0  1.0  \n",
      "13  NaN  2.0  NaN  0.0  0.0  1.0  \n",
      "14  2.0  0.0  0.0  0.0  0.0  NaN  \n",
      "15  2.0  0.0  NaN  2.0  0.0  1.0  \n",
      "16  NaN  NaN  0.0  2.0  0.0  1.0  \n",
      "17  2.0  0.0  0.0  1.0  0.0  0.0  \n",
      "18  2.0  0.0  NaN  1.0  2.0  0.0  \n",
      "19  1.0  NaN  1.0  2.0  0.0  NaN  \n",
      "20  1.0  NaN  NaN  2.0  0.0  2.0  \n",
      "21  2.0  2.0  0.0  1.0  2.0  NaN  \n",
      "22  NaN  0.0  0.0  2.0  NaN  0.0  \n",
      "23  NaN  2.0  0.0  0.0  NaN  NaN  \n",
      "24  NaN  1.0  0.0  0.0  1.0  1.0  \n",
      "25  NaN  1.0  NaN  0.0  NaN  0.0  \n",
      "26  NaN  0.0  NaN  0.0  NaN  NaN  \n",
      "27  NaN  NaN  0.0  0.0  NaN  NaN  \n",
      "28  2.0  NaN  1.0  1.0  NaN  0.0  \n",
      "29  NaN  0.0  NaN  0.0  1.0  NaN  \n",
      "30  0.0  NaN  0.0  2.0  2.0  NaN  \n",
      "31  NaN  2.0  0.0  0.0  1.0  0.0  \n",
      "32  1.0  NaN  NaN  2.0  2.0  NaN  \n",
      "33  0.0  0.0  0.0  0.0  0.0  NaN  \n",
      "34  1.0  1.0  0.0  0.0  0.0  NaN  \n",
      "35  0.0  NaN  2.0  NaN  NaN  2.0  \n",
      "36  1.0  NaN  0.0  NaN  1.0  0.0  \n",
      "37  NaN  1.0  0.0  1.0  2.0  0.0  \n",
      "38  0.0  2.0  NaN  NaN  NaN  1.0  \n",
      "39  0.0  2.0  2.0  NaN  2.0  0.0  \n",
      "40  NaN  0.0  2.0  0.0  1.0  0.0  \n",
      "41  2.0  NaN  1.0  0.0  NaN  NaN  \n",
      "42  0.0  0.0  NaN  0.0  0.0  0.0  \n",
      "43  2.0  1.0  2.0  2.0  NaN  NaN  \n",
      "44  0.0  2.0  0.0  1.0  NaN  NaN  \n",
      "45  NaN  NaN  1.0  0.0  1.0  0.0  \n",
      "46  0.0  0.0  0.0  NaN  NaN  0.0  \n",
      "47  0.0  0.0  0.0  2.0  1.0  NaN  \n",
      "48  2.0  1.0  2.0  1.0  1.0  0.0  \n",
      "49  NaN  2.0  0.0  NaN  0.0  0.0  \n",
      "\n",
      "[50 rows x 50 columns]\n"
     ]
    }
   ],
   "source": [
    "# Convert to float to allow NaN\n",
    "df = df.astype(float)\n",
    "\n",
    "# Randomly punch holes with 30% probability\n",
    "mask = np.random.choice([True, False], size=df.shape, p=[0.3, 0.7])\n",
    "df[mask] = np.nan\n",
    "\n",
    "# View the resulting DataFrame\n",
    "print(df)"
   ]
  },
  {
   "cell_type": "code",
   "execution_count": 142,
   "metadata": {
    "colab": {
     "base_uri": "https://localhost:8080/"
    },
    "id": "LaCZ-_c4xPxp",
    "outputId": "198e2ee0-f845-4ec5-ae0d-10fe2ebc0aae"
   },
   "outputs": [
    {
     "name": "stdout",
     "output_type": "stream",
     "text": [
      "     0    1    2    3    4    5    6    7    8    9   ...   40   41   42   43  \\\n",
      "0   NaN  NaN  NaN  0.0  0.0  NaN  2.0  0.0  0.0  0.0  ...  0.0  2.0  0.0  0.0   \n",
      "1   0.0  1.0  0.0  NaN  2.0  0.0  NaN  2.0  NaN  0.0  ...  1.0  2.0  0.0  NaN   \n",
      "2   0.0  1.0  1.0  0.0  2.0  NaN  0.0  2.0  NaN  1.0  ...  0.0  NaN  NaN  NaN   \n",
      "3   NaN  0.0  2.0  0.0  0.0  NaN  0.0  0.0  NaN  1.0  ...  NaN  0.0  0.0  0.0   \n",
      "4   0.0  0.0  1.0  NaN  NaN  1.0  2.0  2.0  1.0  NaN  ...  0.0  2.0  2.0  NaN   \n",
      "5   1.0  1.0  NaN  0.0  0.0  2.0  0.0  NaN  NaN  0.0  ...  2.0  0.0  0.0  0.0   \n",
      "6   NaN  0.0  2.0  2.0  1.0  1.0  NaN  0.0  0.0  1.0  ...  0.0  0.0  2.0  0.0   \n",
      "7   NaN  0.0  2.0  NaN  NaN  2.0  NaN  1.0  0.0  0.0  ...  0.0  2.0  NaN  2.0   \n",
      "8   NaN  NaN  0.0  0.0  2.0  0.0  0.0  2.0  NaN  2.0  ...  2.0  0.0  NaN  NaN   \n",
      "9   NaN  1.0  0.0  NaN  2.0  0.0  0.0  NaN  NaN  0.0  ...  NaN  2.0  0.0  NaN   \n",
      "10  0.0  0.0  2.0  1.0  NaN  2.0  0.0  0.0  0.0  1.0  ...  2.0  NaN  1.0  2.0   \n",
      "11  NaN  1.0  NaN  0.0  2.0  1.0  0.0  NaN  NaN  2.0  ...  NaN  2.0  NaN  2.0   \n",
      "12  0.0  NaN  NaN  0.0  1.0  0.0  0.0  2.0  0.0  0.0  ...  2.0  NaN  NaN  1.0   \n",
      "13  NaN  0.0  1.0  0.0  1.0  NaN  2.0  0.0  2.0  1.0  ...  NaN  0.0  0.0  0.0   \n",
      "14  NaN  NaN  NaN  0.0  NaN  0.0  0.0  NaN  NaN  NaN  ...  NaN  1.0  NaN  0.0   \n",
      "15  NaN  NaN  2.0  0.0  2.0  1.0  NaN  1.0  NaN  0.0  ...  1.0  0.0  0.0  0.0   \n",
      "16  0.0  0.0  NaN  NaN  1.0  NaN  NaN  0.0  NaN  0.0  ...  NaN  2.0  0.0  2.0   \n",
      "17  2.0  0.0  2.0  0.0  0.0  0.0  0.0  NaN  NaN  1.0  ...  0.0  2.0  2.0  NaN   \n",
      "18  0.0  0.0  NaN  0.0  2.0  2.0  1.0  0.0  NaN  1.0  ...  NaN  1.0  0.0  2.0   \n",
      "19  2.0  0.0  NaN  NaN  1.0  0.0  0.0  NaN  1.0  1.0  ...  1.0  NaN  NaN  0.0   \n",
      "20  NaN  0.0  0.0  2.0  NaN  NaN  NaN  NaN  2.0  1.0  ...  2.0  NaN  0.0  NaN   \n",
      "21  0.0  0.0  0.0  2.0  1.0  0.0  NaN  0.0  1.0  0.0  ...  1.0  2.0  1.0  0.0   \n",
      "22  0.0  NaN  1.0  0.0  1.0  NaN  0.0  2.0  1.0  NaN  ...  NaN  0.0  0.0  2.0   \n",
      "23  0.0  2.0  1.0  1.0  2.0  2.0  0.0  0.0  NaN  NaN  ...  1.0  NaN  NaN  NaN   \n",
      "24  1.0  1.0  0.0  NaN  NaN  0.0  0.0  2.0  2.0  NaN  ...  1.0  1.0  0.0  2.0   \n",
      "25  0.0  0.0  0.0  2.0  2.0  1.0  2.0  NaN  NaN  2.0  ...  NaN  1.0  1.0  NaN   \n",
      "26  0.0  NaN  2.0  2.0  NaN  NaN  0.0  0.0  2.0  2.0  ...  0.0  0.0  0.0  NaN   \n",
      "27  1.0  0.0  0.0  0.0  0.0  0.0  NaN  2.0  0.0  NaN  ...  0.0  NaN  2.0  2.0   \n",
      "28  0.0  NaN  NaN  NaN  NaN  2.0  NaN  2.0  NaN  1.0  ...  1.0  NaN  NaN  0.0   \n",
      "29  0.0  0.0  0.0  0.0  0.0  0.0  0.0  1.0  0.0  2.0  ...  0.0  0.0  NaN  0.0   \n",
      "30  2.0  0.0  NaN  0.0  NaN  1.0  1.0  0.0  NaN  0.0  ...  NaN  NaN  NaN  2.0   \n",
      "31  0.0  0.0  0.0  2.0  NaN  0.0  0.0  1.0  2.0  1.0  ...  NaN  2.0  1.0  0.0   \n",
      "32  2.0  0.0  0.0  NaN  2.0  1.0  NaN  1.0  1.0  0.0  ...  0.0  2.0  1.0  0.0   \n",
      "33  2.0  NaN  1.0  NaN  0.0  0.0  0.0  NaN  2.0  NaN  ...  1.0  0.0  0.0  0.0   \n",
      "34  NaN  NaN  NaN  NaN  2.0  NaN  NaN  1.0  NaN  NaN  ...  NaN  0.0  0.0  2.0   \n",
      "35  0.0  NaN  0.0  0.0  NaN  0.0  NaN  NaN  0.0  NaN  ...  2.0  2.0  1.0  0.0   \n",
      "36  1.0  0.0  1.0  NaN  NaN  2.0  1.0  0.0  NaN  0.0  ...  NaN  2.0  NaN  2.0   \n",
      "37  0.0  0.0  NaN  NaN  1.0  0.0  NaN  NaN  0.0  NaN  ...  0.0  0.0  1.0  NaN   \n",
      "38  NaN  0.0  0.0  2.0  NaN  1.0  2.0  0.0  NaN  NaN  ...  0.0  0.0  0.0  1.0   \n",
      "39  0.0  2.0  NaN  2.0  NaN  0.0  1.0  0.0  1.0  0.0  ...  2.0  0.0  NaN  0.0   \n",
      "40  0.0  2.0  NaN  0.0  1.0  0.0  2.0  NaN  NaN  0.0  ...  1.0  1.0  0.0  NaN   \n",
      "41  1.0  1.0  NaN  1.0  0.0  2.0  NaN  NaN  0.0  0.0  ...  2.0  2.0  0.0  NaN   \n",
      "42  0.0  NaN  1.0  0.0  1.0  0.0  NaN  NaN  2.0  0.0  ...  NaN  1.0  NaN  0.0   \n",
      "43  1.0  0.0  NaN  2.0  2.0  NaN  NaN  0.0  NaN  1.0  ...  0.0  0.0  0.0  1.0   \n",
      "44  NaN  0.0  0.0  NaN  0.0  NaN  NaN  2.0  2.0  1.0  ...  1.0  2.0  NaN  NaN   \n",
      "45  NaN  1.0  1.0  1.0  0.0  2.0  0.0  0.0  2.0  0.0  ...  0.0  0.0  2.0  0.0   \n",
      "46  1.0  NaN  NaN  NaN  1.0  1.0  NaN  0.0  NaN  0.0  ...  1.0  1.0  NaN  0.0   \n",
      "47  0.0  NaN  2.0  0.0  2.0  2.0  0.0  NaN  1.0  NaN  ...  0.0  NaN  0.0  0.0   \n",
      "48  NaN  NaN  0.0  2.0  NaN  NaN  0.0  NaN  NaN  0.0  ...  1.0  NaN  NaN  NaN   \n",
      "49  0.0  0.0  NaN  0.0  NaN  NaN  0.0  2.0  2.0  2.0  ...  NaN  0.0  1.0  0.0   \n",
      "\n",
      "     44   45   46   47   48   49  \n",
      "0   NaN  0.0  NaN  NaN  NaN  NaN  \n",
      "1   NaN  0.0  1.0  2.0  NaN  NaN  \n",
      "2   2.0  2.0  1.0  2.0  0.0  0.0  \n",
      "3   0.0  2.0  1.0  2.0  1.0  NaN  \n",
      "4   1.0  1.0  NaN  NaN  2.0  2.0  \n",
      "5   NaN  0.0  NaN  0.0  0.0  0.0  \n",
      "6   1.0  NaN  2.0  1.0  1.0  NaN  \n",
      "7   NaN  0.0  0.0  1.0  0.0  1.0  \n",
      "8   NaN  NaN  NaN  2.0  NaN  NaN  \n",
      "9   0.0  1.0  NaN  NaN  NaN  1.0  \n",
      "10  0.0  2.0  0.0  0.0  0.0  0.0  \n",
      "11  0.0  0.0  0.0  0.0  2.0  NaN  \n",
      "12  0.0  1.0  NaN  NaN  NaN  2.0  \n",
      "13  2.0  1.0  NaN  2.0  NaN  NaN  \n",
      "14  NaN  1.0  0.0  1.0  0.0  2.0  \n",
      "15  0.0  2.0  2.0  1.0  2.0  0.0  \n",
      "16  NaN  1.0  0.0  1.0  2.0  NaN  \n",
      "17  1.0  NaN  2.0  NaN  0.0  2.0  \n",
      "18  0.0  1.0  NaN  NaN  0.0  0.0  \n",
      "19  NaN  1.0  NaN  0.0  NaN  1.0  \n",
      "20  1.0  0.0  NaN  0.0  2.0  0.0  \n",
      "21  0.0  NaN  1.0  0.0  0.0  1.0  \n",
      "22  0.0  1.0  NaN  1.0  1.0  2.0  \n",
      "23  NaN  0.0  2.0  1.0  NaN  0.0  \n",
      "24  1.0  0.0  NaN  0.0  0.0  NaN  \n",
      "25  0.0  NaN  0.0  NaN  1.0  1.0  \n",
      "26  0.0  0.0  NaN  0.0  0.0  0.0  \n",
      "27  NaN  0.0  2.0  1.0  2.0  0.0  \n",
      "28  0.0  1.0  0.0  2.0  0.0  NaN  \n",
      "29  2.0  2.0  2.0  2.0  0.0  0.0  \n",
      "30  1.0  2.0  0.0  2.0  0.0  0.0  \n",
      "31  2.0  0.0  2.0  1.0  0.0  1.0  \n",
      "32  NaN  NaN  2.0  0.0  0.0  0.0  \n",
      "33  1.0  1.0  0.0  0.0  NaN  0.0  \n",
      "34  0.0  NaN  0.0  NaN  NaN  2.0  \n",
      "35  1.0  0.0  0.0  0.0  2.0  NaN  \n",
      "36  2.0  0.0  1.0  2.0  2.0  NaN  \n",
      "37  1.0  0.0  0.0  1.0  0.0  2.0  \n",
      "38  2.0  NaN  0.0  1.0  0.0  0.0  \n",
      "39  NaN  NaN  0.0  NaN  0.0  1.0  \n",
      "40  2.0  NaN  0.0  0.0  NaN  NaN  \n",
      "41  0.0  NaN  2.0  1.0  0.0  2.0  \n",
      "42  0.0  1.0  NaN  1.0  NaN  2.0  \n",
      "43  NaN  NaN  NaN  0.0  2.0  1.0  \n",
      "44  1.0  NaN  0.0  1.0  0.0  1.0  \n",
      "45  NaN  0.0  1.0  2.0  0.0  1.0  \n",
      "46  1.0  2.0  0.0  2.0  NaN  0.0  \n",
      "47  0.0  0.0  NaN  0.0  2.0  NaN  \n",
      "48  2.0  1.0  0.0  2.0  NaN  NaN  \n",
      "49  0.0  NaN  0.0  0.0  0.0  NaN  \n",
      "\n",
      "[50 rows x 50 columns]\n"
     ]
    }
   ],
   "source": [
    "import numpy as np\n",
    "import pandas as pd\n",
    "\n",
    "# Set matrix dimensions and proportions\n",
    "n = 50\n",
    "values = np.random.permutation(\n",
    "    np.concatenate([\n",
    "        np.full(int(n * n * 0.5), 0),  # 50% 0's\n",
    "        np.full(int(n * n * 0.25), 1), # 25% 1's\n",
    "        np.full(int(n * n * 0.25), 2)  # 25% 2's\n",
    "    ])\n",
    ")\n",
    "\n",
    "# Reshape the matrix\n",
    "R = values.reshape(n, n)\n",
    "\n",
    "# Create a mask for punching holes with a 30% probability\n",
    "random_holes = np.random.choice([True, False], size=(n, n), p=[0.3, 0.7])\n",
    "\n",
    "# Assign NaN to the corresponding positions\n",
    "R = R.astype(float)  # Convert to float to support NaN\n",
    "R[random_holes] = np.nan\n",
    "\n",
    "# Convert to DataFrame\n",
    "df = pd.DataFrame(R)\n",
    "\n",
    "\n",
    "print(df)\n"
   ]
  },
  {
   "cell_type": "markdown",
   "metadata": {
    "id": "trL0Ltu4yp9m"
   },
   "source": [
    "* Sort the rows in matrix `R` by the largest row sum to lowest. Be careful about the NA's!"
   ]
  },
  {
   "cell_type": "code",
   "execution_count": 154,
   "metadata": {
    "colab": {
     "base_uri": "https://localhost:8080/"
    },
    "id": "QGPEL3Ba1ana",
    "outputId": "5fed490c-5567-42dd-f607-495500c373ed"
   },
   "outputs": [
    {
     "name": "stdout",
     "output_type": "stream",
     "text": [
      "[25  4  2 19 10 24 30 35 15 41 31  7 29 17 39 43  6 34 37 44 28  1 11 45\n",
      " 32 27 47 13 48 20 21 23 46 36 49 22 16  3 33 26 38  8 42 18 12  9  0  5\n",
      " 40 14]\n"
     ]
    }
   ],
   "source": [
    "#compute row sums, ignoring NaN values\n",
    "\n",
    "row_sum = np.nansum(R, axis = 1)\n",
    "#print(row_sum)\n",
    "\n",
    "#get the row indices sorted by largest row sum to smallest\n",
    "\n",
    "row_sorted = np.argsort(-row_sum) \n",
    "print(row_sorted)"
   ]
  },
  {
   "cell_type": "markdown",
   "metadata": {
    "id": "1T_tkkym9FIP"
   },
   "source": [
    "* Python does not have an apply function. Instead use the nanstd function in numpy to calculate the standard devation of each column. Print them and combine then into a dataframe."
   ]
  },
  {
   "cell_type": "code",
   "execution_count": 168,
   "metadata": {
    "colab": {
     "base_uri": "https://localhost:8080/"
    },
    "id": "hc55J-CX0Jx-",
    "outputId": "086da3d7-5d85-4ea7-ee97-f565fcbc4987"
   },
   "outputs": [
    {
     "name": "stdout",
     "output_type": "stream",
     "text": [
      "[0.8086898285216189, 0.8854098583616238, 0.8392220378474723, 0.7871459619613752, 0.8446711713768276, 0.7577213929122263, 0.7757580512096671, 0.8975274678557507, 0.8076779989575054, 0.803055389860297, 0.8695311207367403, 0.925111364998409, 0.7761362712039817, 0.8050858744917354, 0.759202798262025, 0.8799857953399022, 0.7537660547584526, 0.8687730433896111, 0.8249491517770594, 0.7469661823058997, 0.8595864638818418, 0.767519463953629, 0.7916228058025279, 0.767519463953629, 0.7797593804232332, 0.8100291794323751, 0.903664205631601, 0.8147947848043934, 0.8202679477907446, 0.8362864341838866, 0.8381062852220592, 0.8308641921035719, 0.791663629289017, 0.7871459619613752, 0.8749603165604457, 0.8867160944173538, 0.8691737796972567, 0.8170618261189486, 0.7556372504853024, 0.8089697973125999, 0.75, 0.8870956969291443, 0.7181259597614282, 0.81033067476749, 0.7848037684780196, 0.7935090949136863, 0.7354309796043221, 0.8898420342245582, 0.8816709987291178, 0.816496580927726]\n",
      "[0.7376433061167325, 0.6414269805898185, 0.8190839013800723, 0.8870956969291443, 0.8177316926151672, 0.8426193117902644, 0.7905694150420949, 0.8901615264953856, 0.8606629658238704, 0.7354309796043221, 0.8620067027323833, 0.8407965125464091, 0.8743814592545343, 0.8512440944877634, 0.8405933750763339, 0.9108881881195696, 0.7591617288906528, 0.8762116830881949, 0.7845445838711987, 0.7243532880447558, 0.7895811734750556, 0.8778452283278408, 0.8426193117902644, 0.6890566910260519, 0.8620067027323833, 0.8791206888678984, 0.7951240294584375, 0.808689828521619, 0.8534606386520674, 0.5951190357119042, 0.8716050085094313, 0.7483314773547882, 0.7856742013183862, 0.7780564894828952, 0.7510281019219878, 0.9131223741405675, 0.8886592908251624, 0.8670237042931574, 0.7632573146685605, 0.8231038816577163, 0.7855844048495726, 0.9043688250537638, 0.7422696190252056, 0.9124982527240751, 0.7949493345141213, 0.7592027982620249, 0.858501148195672, 0.8081971475990678, 0.8819171036881966, 0.8214258849275848]\n",
      "Count of non-NaN values in row_sd: 50\n",
      "Count of non-NaN values in col_sd: 50\n"
     ]
    }
   ],
   "source": [
    "# compute row-wise and column-wise standard deviation\n",
    "row_sd = np.nanstd(R, axis = 1)\n",
    "col_sd = np.nanstd(R, axis = 0)\n",
    "\n",
    "# combine the results into a dictionary\n",
    "result = {\"row_sd\" : row_sd.tolist(), \"col_sd\" : col_sd.tolist()}\n",
    "\n",
    "#print the results\n",
    "\n",
    "print(result[\"row_sd\"])\n",
    "print(result[\"col_sd\"])\n",
    "\n",
    "row_sd_count = sum(~np.isnan(result[\"row_sd\"]))\n",
    "col_sd_count = sum(~np.isnan(result[\"col_sd\"]))  # Count of valid values in col_sd\n",
    "\n",
    "# Print the counts\n",
    "print(\"Count of non-NaN values in row_sd:\", row_sd_count)\n",
    "print(\"Count of non-NaN values in col_sd:\", col_sd_count)"
   ]
  },
  {
   "cell_type": "markdown",
   "metadata": {},
   "source": [
    "* combine the results from the previous cell into a dataframe"
   ]
  },
  {
   "cell_type": "code",
   "execution_count": 164,
   "metadata": {
    "colab": {
     "base_uri": "https://localhost:8080/",
     "height": 1000
    },
    "id": "ZT3Gzrcm5pR2",
    "outputId": "89a7707e-c0e9-45be-cf24-8d7193609bae"
   },
   "outputs": [
    {
     "data": {
      "text/html": [
       "<div>\n",
       "<style scoped>\n",
       "    .dataframe tbody tr th:only-of-type {\n",
       "        vertical-align: middle;\n",
       "    }\n",
       "\n",
       "    .dataframe tbody tr th {\n",
       "        vertical-align: top;\n",
       "    }\n",
       "\n",
       "    .dataframe thead th {\n",
       "        text-align: right;\n",
       "    }\n",
       "</style>\n",
       "<table border=\"1\" class=\"dataframe\">\n",
       "  <thead>\n",
       "    <tr style=\"text-align: right;\">\n",
       "      <th></th>\n",
       "      <th>row_sd</th>\n",
       "      <th>col_sd</th>\n",
       "    </tr>\n",
       "  </thead>\n",
       "  <tbody>\n",
       "    <tr>\n",
       "      <th>0</th>\n",
       "      <td>0.808690</td>\n",
       "      <td>0.737643</td>\n",
       "    </tr>\n",
       "    <tr>\n",
       "      <th>1</th>\n",
       "      <td>0.885410</td>\n",
       "      <td>0.641427</td>\n",
       "    </tr>\n",
       "    <tr>\n",
       "      <th>2</th>\n",
       "      <td>0.839222</td>\n",
       "      <td>0.819084</td>\n",
       "    </tr>\n",
       "    <tr>\n",
       "      <th>3</th>\n",
       "      <td>0.787146</td>\n",
       "      <td>0.887096</td>\n",
       "    </tr>\n",
       "    <tr>\n",
       "      <th>4</th>\n",
       "      <td>0.844671</td>\n",
       "      <td>0.817732</td>\n",
       "    </tr>\n",
       "    <tr>\n",
       "      <th>5</th>\n",
       "      <td>0.757721</td>\n",
       "      <td>0.842619</td>\n",
       "    </tr>\n",
       "    <tr>\n",
       "      <th>6</th>\n",
       "      <td>0.775758</td>\n",
       "      <td>0.790569</td>\n",
       "    </tr>\n",
       "    <tr>\n",
       "      <th>7</th>\n",
       "      <td>0.897527</td>\n",
       "      <td>0.890162</td>\n",
       "    </tr>\n",
       "    <tr>\n",
       "      <th>8</th>\n",
       "      <td>0.807678</td>\n",
       "      <td>0.860663</td>\n",
       "    </tr>\n",
       "    <tr>\n",
       "      <th>9</th>\n",
       "      <td>0.803055</td>\n",
       "      <td>0.735431</td>\n",
       "    </tr>\n",
       "    <tr>\n",
       "      <th>10</th>\n",
       "      <td>0.869531</td>\n",
       "      <td>0.862007</td>\n",
       "    </tr>\n",
       "    <tr>\n",
       "      <th>11</th>\n",
       "      <td>0.925111</td>\n",
       "      <td>0.840797</td>\n",
       "    </tr>\n",
       "    <tr>\n",
       "      <th>12</th>\n",
       "      <td>0.776136</td>\n",
       "      <td>0.874381</td>\n",
       "    </tr>\n",
       "    <tr>\n",
       "      <th>13</th>\n",
       "      <td>0.805086</td>\n",
       "      <td>0.851244</td>\n",
       "    </tr>\n",
       "    <tr>\n",
       "      <th>14</th>\n",
       "      <td>0.759203</td>\n",
       "      <td>0.840593</td>\n",
       "    </tr>\n",
       "    <tr>\n",
       "      <th>15</th>\n",
       "      <td>0.879986</td>\n",
       "      <td>0.910888</td>\n",
       "    </tr>\n",
       "    <tr>\n",
       "      <th>16</th>\n",
       "      <td>0.753766</td>\n",
       "      <td>0.759162</td>\n",
       "    </tr>\n",
       "    <tr>\n",
       "      <th>17</th>\n",
       "      <td>0.868773</td>\n",
       "      <td>0.876212</td>\n",
       "    </tr>\n",
       "    <tr>\n",
       "      <th>18</th>\n",
       "      <td>0.824949</td>\n",
       "      <td>0.784545</td>\n",
       "    </tr>\n",
       "    <tr>\n",
       "      <th>19</th>\n",
       "      <td>0.746966</td>\n",
       "      <td>0.724353</td>\n",
       "    </tr>\n",
       "    <tr>\n",
       "      <th>20</th>\n",
       "      <td>0.859586</td>\n",
       "      <td>0.789581</td>\n",
       "    </tr>\n",
       "    <tr>\n",
       "      <th>21</th>\n",
       "      <td>0.767519</td>\n",
       "      <td>0.877845</td>\n",
       "    </tr>\n",
       "    <tr>\n",
       "      <th>22</th>\n",
       "      <td>0.791623</td>\n",
       "      <td>0.842619</td>\n",
       "    </tr>\n",
       "    <tr>\n",
       "      <th>23</th>\n",
       "      <td>0.767519</td>\n",
       "      <td>0.689057</td>\n",
       "    </tr>\n",
       "    <tr>\n",
       "      <th>24</th>\n",
       "      <td>0.779759</td>\n",
       "      <td>0.862007</td>\n",
       "    </tr>\n",
       "    <tr>\n",
       "      <th>25</th>\n",
       "      <td>0.810029</td>\n",
       "      <td>0.879121</td>\n",
       "    </tr>\n",
       "    <tr>\n",
       "      <th>26</th>\n",
       "      <td>0.903664</td>\n",
       "      <td>0.795124</td>\n",
       "    </tr>\n",
       "    <tr>\n",
       "      <th>27</th>\n",
       "      <td>0.814795</td>\n",
       "      <td>0.808690</td>\n",
       "    </tr>\n",
       "    <tr>\n",
       "      <th>28</th>\n",
       "      <td>0.820268</td>\n",
       "      <td>0.853461</td>\n",
       "    </tr>\n",
       "    <tr>\n",
       "      <th>29</th>\n",
       "      <td>0.836286</td>\n",
       "      <td>0.595119</td>\n",
       "    </tr>\n",
       "    <tr>\n",
       "      <th>30</th>\n",
       "      <td>0.838106</td>\n",
       "      <td>0.871605</td>\n",
       "    </tr>\n",
       "    <tr>\n",
       "      <th>31</th>\n",
       "      <td>0.830864</td>\n",
       "      <td>0.748331</td>\n",
       "    </tr>\n",
       "    <tr>\n",
       "      <th>32</th>\n",
       "      <td>0.791664</td>\n",
       "      <td>0.785674</td>\n",
       "    </tr>\n",
       "    <tr>\n",
       "      <th>33</th>\n",
       "      <td>0.787146</td>\n",
       "      <td>0.778056</td>\n",
       "    </tr>\n",
       "    <tr>\n",
       "      <th>34</th>\n",
       "      <td>0.874960</td>\n",
       "      <td>0.751028</td>\n",
       "    </tr>\n",
       "    <tr>\n",
       "      <th>35</th>\n",
       "      <td>0.886716</td>\n",
       "      <td>0.913122</td>\n",
       "    </tr>\n",
       "    <tr>\n",
       "      <th>36</th>\n",
       "      <td>0.869174</td>\n",
       "      <td>0.888659</td>\n",
       "    </tr>\n",
       "    <tr>\n",
       "      <th>37</th>\n",
       "      <td>0.817062</td>\n",
       "      <td>0.867024</td>\n",
       "    </tr>\n",
       "    <tr>\n",
       "      <th>38</th>\n",
       "      <td>0.755637</td>\n",
       "      <td>0.763257</td>\n",
       "    </tr>\n",
       "    <tr>\n",
       "      <th>39</th>\n",
       "      <td>0.808970</td>\n",
       "      <td>0.823104</td>\n",
       "    </tr>\n",
       "    <tr>\n",
       "      <th>40</th>\n",
       "      <td>0.750000</td>\n",
       "      <td>0.785584</td>\n",
       "    </tr>\n",
       "    <tr>\n",
       "      <th>41</th>\n",
       "      <td>0.887096</td>\n",
       "      <td>0.904369</td>\n",
       "    </tr>\n",
       "    <tr>\n",
       "      <th>42</th>\n",
       "      <td>0.718126</td>\n",
       "      <td>0.742270</td>\n",
       "    </tr>\n",
       "    <tr>\n",
       "      <th>43</th>\n",
       "      <td>0.810331</td>\n",
       "      <td>0.912498</td>\n",
       "    </tr>\n",
       "    <tr>\n",
       "      <th>44</th>\n",
       "      <td>0.784804</td>\n",
       "      <td>0.794949</td>\n",
       "    </tr>\n",
       "    <tr>\n",
       "      <th>45</th>\n",
       "      <td>0.793509</td>\n",
       "      <td>0.759203</td>\n",
       "    </tr>\n",
       "    <tr>\n",
       "      <th>46</th>\n",
       "      <td>0.735431</td>\n",
       "      <td>0.858501</td>\n",
       "    </tr>\n",
       "    <tr>\n",
       "      <th>47</th>\n",
       "      <td>0.889842</td>\n",
       "      <td>0.808197</td>\n",
       "    </tr>\n",
       "    <tr>\n",
       "      <th>48</th>\n",
       "      <td>0.881671</td>\n",
       "      <td>0.881917</td>\n",
       "    </tr>\n",
       "    <tr>\n",
       "      <th>49</th>\n",
       "      <td>0.816497</td>\n",
       "      <td>0.821426</td>\n",
       "    </tr>\n",
       "  </tbody>\n",
       "</table>\n",
       "</div>"
      ],
      "text/plain": [
       "      row_sd    col_sd\n",
       "0   0.808690  0.737643\n",
       "1   0.885410  0.641427\n",
       "2   0.839222  0.819084\n",
       "3   0.787146  0.887096\n",
       "4   0.844671  0.817732\n",
       "5   0.757721  0.842619\n",
       "6   0.775758  0.790569\n",
       "7   0.897527  0.890162\n",
       "8   0.807678  0.860663\n",
       "9   0.803055  0.735431\n",
       "10  0.869531  0.862007\n",
       "11  0.925111  0.840797\n",
       "12  0.776136  0.874381\n",
       "13  0.805086  0.851244\n",
       "14  0.759203  0.840593\n",
       "15  0.879986  0.910888\n",
       "16  0.753766  0.759162\n",
       "17  0.868773  0.876212\n",
       "18  0.824949  0.784545\n",
       "19  0.746966  0.724353\n",
       "20  0.859586  0.789581\n",
       "21  0.767519  0.877845\n",
       "22  0.791623  0.842619\n",
       "23  0.767519  0.689057\n",
       "24  0.779759  0.862007\n",
       "25  0.810029  0.879121\n",
       "26  0.903664  0.795124\n",
       "27  0.814795  0.808690\n",
       "28  0.820268  0.853461\n",
       "29  0.836286  0.595119\n",
       "30  0.838106  0.871605\n",
       "31  0.830864  0.748331\n",
       "32  0.791664  0.785674\n",
       "33  0.787146  0.778056\n",
       "34  0.874960  0.751028\n",
       "35  0.886716  0.913122\n",
       "36  0.869174  0.888659\n",
       "37  0.817062  0.867024\n",
       "38  0.755637  0.763257\n",
       "39  0.808970  0.823104\n",
       "40  0.750000  0.785584\n",
       "41  0.887096  0.904369\n",
       "42  0.718126  0.742270\n",
       "43  0.810331  0.912498\n",
       "44  0.784804  0.794949\n",
       "45  0.793509  0.759203\n",
       "46  0.735431  0.858501\n",
       "47  0.889842  0.808197\n",
       "48  0.881671  0.881917\n",
       "49  0.816497  0.821426"
      ]
     },
     "execution_count": 164,
     "metadata": {},
     "output_type": "execute_result"
    }
   ],
   "source": [
    "sd_df  = pd.DataFrame({\"row_sd\" : row_sd.tolist(), \"col_sd\" : col_sd.tolist()})\n",
    "sd_df"
   ]
  },
  {
   "cell_type": "markdown",
   "metadata": {
    "id": "L-A7Cfa98DDg"
   },
   "source": [
    "* Use the Pandas apply function to compute a vector whose entries are the count of entries that are 1 or 2 in each column"
   ]
  },
  {
   "cell_type": "code",
   "execution_count": 170,
   "metadata": {
    "colab": {
     "base_uri": "https://localhost:8080/"
    },
    "id": "54XfftmJ77oY",
    "outputId": "8baa21e3-58dc-4348-d205-288750a36dd2"
   },
   "outputs": [
    {
     "name": "stdout",
     "output_type": "stream",
     "text": [
      "0     12\n",
      "1     11\n",
      "2     17\n",
      "3     14\n",
      "4     24\n",
      "5     19\n",
      "6     10\n",
      "7     17\n",
      "8     17\n",
      "9     19\n",
      "10    17\n",
      "11    21\n",
      "12    20\n",
      "13    18\n",
      "14    15\n",
      "15    20\n",
      "16    20\n",
      "17    18\n",
      "18    17\n",
      "19    20\n",
      "20    22\n",
      "21    18\n",
      "22    19\n",
      "23    26\n",
      "24    24\n",
      "25    17\n",
      "26    13\n",
      "27    13\n",
      "28    18\n",
      "29    19\n",
      "30    18\n",
      "31    21\n",
      "32    20\n",
      "33    18\n",
      "34    17\n",
      "35    15\n",
      "36    15\n",
      "37    17\n",
      "38    13\n",
      "39    17\n",
      "40    20\n",
      "41    22\n",
      "42    13\n",
      "43    14\n",
      "44    19\n",
      "45    20\n",
      "46    15\n",
      "47    26\n",
      "48    14\n",
      "49    19\n",
      "dtype: int64\n"
     ]
    }
   ],
   "source": [
    "R = pd.DataFrame(R)\n",
    "\n",
    "#Compute the count of 1's and 2's in each column\n",
    "counts = R.apply(lambda col: ((col == 1) | (col == 2)).sum(), axis=0)\n",
    "\n",
    "#Print the counts\n",
    "print(counts)"
   ]
  },
  {
   "cell_type": "markdown",
   "metadata": {
    "id": "YGsPbNYnGw7b"
   },
   "source": [
    "Since we just switched between Pandas dataframes and Numpy arrays. Here are some handy ways to check to see if you are working with a Pandas dataframe or a Numpy array"
   ]
  },
  {
   "cell_type": "code",
   "execution_count": 172,
   "metadata": {
    "colab": {
     "base_uri": "https://localhost:8080/"
    },
    "id": "XIaPkMlqHaN4",
    "outputId": "a1564ca8-68a0-4696-ac53-d7283a2bd919"
   },
   "outputs": [
    {
     "name": "stdout",
     "output_type": "stream",
     "text": [
      "R is a Pandas DataFrame\n"
     ]
    }
   ],
   "source": [
    "# Check type directly\n",
    "if type(R) == pd.DataFrame:\n",
    "    print(\"R is a Pandas DataFrame\")\n",
    "\n",
    "if type(R) == np.ndarray:\n",
    "    print(\"R is a NumPy array\")"
   ]
  },
  {
   "cell_type": "code",
   "execution_count": 174,
   "metadata": {
    "colab": {
     "base_uri": "https://localhost:8080/"
    },
    "id": "TbnwGrJzGAjI",
    "outputId": "54de6748-d7e4-420e-fb7e-3719496a1c90"
   },
   "outputs": [
    {
     "name": "stdout",
     "output_type": "stream",
     "text": [
      "Pandas DataFrame\n"
     ]
    }
   ],
   "source": [
    "# isinstance(object, classinfo): This function checks if an object is an instance of a specified class or subclass.\n",
    "# function utilizing this function to check\n",
    "def check_type(R):\n",
    "    if isinstance(R, pd.DataFrame):\n",
    "        return \"Pandas DataFrame\"\n",
    "    elif isinstance(R, np.ndarray):\n",
    "        return \"NumPy array\"\n",
    "    else:\n",
    "        return \"Unknown type\"\n",
    "\n",
    "# Test the function\n",
    "print(check_type(R))  # Output: Pandas DataFrame"
   ]
  },
  {
   "cell_type": "markdown",
   "metadata": {
    "id": "ys-3fJhOHrIq"
   },
   "source": [
    "* Create a list whose keys are the column number and values are the vector of the columns."
   ]
  },
  {
   "cell_type": "code",
   "execution_count": 1,
   "metadata": {
    "colab": {
     "base_uri": "https://localhost:8080/"
    },
    "id": "lbqjigOmGZe7",
    "outputId": "a34b842b-1010-407e-e732-603af3be95b5"
   },
   "outputs": [
    {
     "name": "stdout",
     "output_type": "stream",
     "text": [
      "{0: array([1, 4, 7]), 1: array([2, 5, 8]), 2: array([3, 6, 9])}\n"
     ]
    }
   ],
   "source": [
    "import numpy as np\n",
    "\n",
    "matrix = np.array([\n",
    "    [1, 2, 3],\n",
    "    [4, 5, 6],\n",
    "    [7, 8, 9]\n",
    "])\n",
    "\n",
    "column_dict = {i: matrix[:, i] for i in range(matrix.shape[1])}\n",
    "\n",
    "print(column_dict)\n"
   ]
  },
  {
   "cell_type": "markdown",
   "metadata": {
    "id": "9nv5y7PcIjmO"
   },
   "source": [
    "* Create a list whose keys are the column number and values are themselves a list with keys: \"min\" whose value is the minimum of the column, \"max\" whose value is the maximum of the column, \"pct_missing\" is the proportion of missingness in the column and \"first_NA\" whose value is the row number of the first time the NA appears. In R this was accomplished using lappy. In Python we will use dictionary comprehension in tandem with Numpy and Pandas operations."
   ]
  },
  {
   "cell_type": "code",
   "execution_count": 3,
   "metadata": {
    "colab": {
     "base_uri": "https://localhost:8080/"
    },
    "id": "PA9Y8De_JBKy",
    "outputId": "b2414bb1-aba9-4798-9213-1be8cf957deb"
   },
   "outputs": [
    {
     "name": "stdout",
     "output_type": "stream",
     "text": [
      "[{'min': 1.0, 'max': 7.0, 'pct_missing': 0.0, 'first_NA': None}, {'min': 2.0, 'max': 8.0, 'pct_missing': 0.3333333333333333, 'first_NA': 0}, {'min': 3.0, 'max': 6.0, 'pct_missing': 0.3333333333333333, 'first_NA': 0}]\n"
     ]
    }
   ],
   "source": [
    "import numpy as np\n",
    "import pandas as pd\n",
    "\n",
    "matrix = np.array([\n",
    "    [1, 2, 3],\n",
    "    [4, np.nan, 6],\n",
    "    [7, 8, np.nan]\n",
    "])\n",
    "\n",
    "df = pd.DataFrame(matrix)\n",
    "\n",
    "column_stats = [\n",
    "    {\n",
    "        \"min\": df[i].min(),\n",
    "        \"max\": df[i].max(),\n",
    "        \"pct_missing\": df[i].isna().mean(),\n",
    "        \"first_NA\": df[i].first_valid_index() if df[i].isna().any() else None\n",
    "    }\n",
    "    for i in range(df.shape[1])\n",
    "]\n",
    "\n",
    "print(column_stats)"
   ]
  },
  {
   "cell_type": "markdown",
   "metadata": {
    "id": "ODDPcnZkJ5NC"
   },
   "source": [
    "* Set a seed and then create a vector `v` consisting of a sample of 1,000 iid normal realizations with mean -10 and variance 100."
   ]
  },
  {
   "cell_type": "code",
   "execution_count": 5,
   "metadata": {
    "colab": {
     "base_uri": "https://localhost:8080/"
    },
    "id": "nw2iaLlhJQqZ",
    "outputId": "f93873f8-979a-40c2-c95a-3d84a98fef3c"
   },
   "outputs": [
    {
     "name": "stdout",
     "output_type": "stream",
     "text": [
      "[ -5.03285847 -11.38264301  -3.52311462   5.23029856 -12.34153375\n",
      " -12.34136957   5.79212816  -2.32565271 -14.69474386  -4.57439956]\n"
     ]
    }
   ],
   "source": [
    "import numpy as np\n",
    "\n",
    "\n",
    "np.random.seed(42)\n",
    "\n",
    "\n",
    "mean = -10\n",
    "variance = 100\n",
    "std_dev = np.sqrt(variance)  \n",
    "\n",
    "v = np.random.normal(loc=mean, scale=std_dev, size=1000)\n",
    "\n",
    "print(v[:10]) \n"
   ]
  },
  {
   "cell_type": "markdown",
   "metadata": {
    "id": "tnKYRW5AKI7I"
   },
   "source": [
    "* Repeat this exercise by resetting the seed to ensure you obtain the same results. You can use the random module built in python or random.seed from numpy."
   ]
  },
  {
   "cell_type": "code",
   "execution_count": 7,
   "metadata": {
    "colab": {
     "base_uri": "https://localhost:8080/"
    },
    "id": "1QHAam3_KCdD",
    "outputId": "9dd29024-89b8-4ab5-d150-0999b39876ae"
   },
   "outputs": [
    {
     "name": "stdout",
     "output_type": "stream",
     "text": [
      "Built-in random module:\n",
      "[-11.440903295779284, -11.729036003315192, -11.113158615676625, -2.9801627490113693, -11.27588283782887, -24.973534143409573, -6.676816559322847, -12.673374784971681, -12.16958684145195, -8.84115213299145]\n"
     ]
    }
   ],
   "source": [
    "import random\n",
    "\n",
    "random.seed(42)\n",
    "\n",
    "mean = -10\n",
    "std_dev = 10\n",
    "\n",
    "v_random = [random.gauss(mean, std_dev) for _ in range(1000)]\n",
    "\n",
    "print(\"Built-in random module:\")\n",
    "print(v_random[:10]) "
   ]
  },
  {
   "cell_type": "markdown",
   "metadata": {
    "id": "RH1j1mgNKnc1"
   },
   "source": [
    "* Find the average of `v` and the standard error of `v`."
   ]
  },
  {
   "cell_type": "code",
   "execution_count": null,
   "metadata": {
    "colab": {
     "base_uri": "https://localhost:8080/"
    },
    "id": "HWJZzmV3KPww",
    "outputId": "72de329e-cfa0-485a-f99f-afd0714804ef"
   },
   "outputs": [],
   "source": []
  },
  {
   "cell_type": "markdown",
   "metadata": {
    "id": "rH-Sf7vqLBxz"
   },
   "source": [
    "* Find the 5%ile of `v` and use the `norm` function from scipy.stats to compute what it theoretically should be. Is the estimate about what is expected by theory?"
   ]
  },
  {
   "cell_type": "code",
   "execution_count": null,
   "metadata": {
    "colab": {
     "base_uri": "https://localhost:8080/"
    },
    "id": "aBMMfyNBLAzS",
    "outputId": "644d6a5c-9cea-4d4b-b7b2-a21b82c6a347"
   },
   "outputs": [],
   "source": []
  },
  {
   "cell_type": "markdown",
   "metadata": {
    "id": "8R9DHC_yLq57"
   },
   "source": [
    "* What is the percentile of `v` that corresponds to the value 0? What should it be theoretically? Is the estimate about what is expected by theory?"
   ]
  },
  {
   "cell_type": "code",
   "execution_count": null,
   "metadata": {
    "colab": {
     "base_uri": "https://localhost:8080/"
    },
    "id": "zf-4WAiKLefJ",
    "outputId": "e131bf75-069c-42ba-b577-7b119d641679"
   },
   "outputs": [],
   "source": []
  },
  {
   "cell_type": "markdown",
   "metadata": {
    "id": "494OABRdM6CZ"
   },
   "source": [
    "* Create a function `my_reverse` which takes as required input a vector `v` and returns the vector in reverse where the first entry is the last entry, etc. No function calls are allowed inside your function otherwise that would defeat the purpose of the exercise! (Yes, there is a base R function that does this called `rev`). "
   ]
  },
  {
   "cell_type": "code",
   "execution_count": null,
   "metadata": {
    "colab": {
     "base_uri": "https://localhost:8080/"
    },
    "id": "FNXIBb6ZM2yq",
    "outputId": "175eaaa6-2a71-46c5-b22c-9fc94d83ef15"
   },
   "outputs": [],
   "source": []
  },
  {
   "cell_type": "markdown",
   "metadata": {
    "id": "lCutgH2kOMDd"
   },
   "source": [
    " * Built in methods in python to reverse a list."
   ]
  },
  {
   "cell_type": "code",
   "execution_count": null,
   "metadata": {
    "colab": {
     "base_uri": "https://localhost:8080/"
    },
    "id": "_F67NrC8N5nl",
    "outputId": "38ec40dc-3f57-4ada-d253-045c1b4bf985"
   },
   "outputs": [],
   "source": [
    "#reverse using slicing\n",
    "v = [1, 2, 3, 4, 5]\n",
    "v_reversed = v[::-1]\n",
    "print(v_reversed)\n",
    "\n",
    "#using the .reverse method\n",
    "v = [1, 2, 3, 4, 5]\n",
    "v.reverse()\n",
    "print(v)"
   ]
  },
  {
   "cell_type": "markdown",
   "metadata": {
    "id": "4VZDnJUFNp9d"
   },
   "source": [
    "* Create a function `flip_matrix` which takes as required input a matrix, an argument `dim_to_rev` that returns the matrix with the rows in reverse order or the columns in reverse order depending on the `dim_to_rev` argument. Let the default be the dimension of the matrix that is greater."
   ]
  },
  {
   "cell_type": "code",
   "execution_count": 9,
   "metadata": {
    "colab": {
     "base_uri": "https://localhost:8080/"
    },
    "id": "KJzPP76INONa",
    "outputId": "44dd9b1f-9e5b-48ed-edcb-37be5f026df9"
   },
   "outputs": [
    {
     "name": "stdout",
     "output_type": "stream",
     "text": [
      "Average of v: -9.806679441776746\n",
      "Standard Error of v: 0.3096552685786409\n"
     ]
    }
   ],
   "source": [
    "import numpy as np\n",
    "\n",
    "np.random.seed(42)\n",
    "mean = -10\n",
    "variance = 100\n",
    "std_dev = np.sqrt(variance)\n",
    "v = np.random.normal(loc=mean, scale=std_dev, size=1000)\n",
    "\n",
    "average_v = np.mean(v)\n",
    "\n",
    "standard_error_v = np.std(v, ddof=1) / np.sqrt(len(v))\n",
    "\n",
    "print(\"Average of v:\", average_v)\n",
    "print(\"Standard Error of v:\", standard_error_v)"
   ]
  },
  {
   "cell_type": "markdown",
   "metadata": {
    "id": "1n-VzTJTPpoU"
   },
   "source": [
    "* Create a list named `my_list` with keys \"A\", \"B\", ... where the entries are arrays of size 1, 2 x 2, 3 x 3 x 3, etc. Fill the array with the numbers 1, 2, 3, etc. Make 8 entries according to this sequence."
   ]
  },
  {
   "cell_type": "code",
   "execution_count": 11,
   "metadata": {
    "colab": {
     "base_uri": "https://localhost:8080/"
    },
    "id": "vGYjxbVcPNLN",
    "outputId": "165888fb-2728-4a4c-daf3-5183e6e1c66b"
   },
   "outputs": [
    {
     "data": {
      "text/plain": [
       "{'A': array([[[1]]]),\n",
       " 'B': array([[[1, 2],\n",
       "         [3, 4]],\n",
       " \n",
       "        [[5, 6],\n",
       "         [7, 8]]]),\n",
       " 'C': array([[[ 1,  2,  3],\n",
       "         [ 4,  5,  6],\n",
       "         [ 7,  8,  9]],\n",
       " \n",
       "        [[10, 11, 12],\n",
       "         [13, 14, 15],\n",
       "         [16, 17, 18]],\n",
       " \n",
       "        [[19, 20, 21],\n",
       "         [22, 23, 24],\n",
       "         [25, 26, 27]]]),\n",
       " 'D': array([[[ 1,  2,  3,  4],\n",
       "         [ 5,  6,  7,  8],\n",
       "         [ 9, 10, 11, 12],\n",
       "         [13, 14, 15, 16]],\n",
       " \n",
       "        [[17, 18, 19, 20],\n",
       "         [21, 22, 23, 24],\n",
       "         [25, 26, 27, 28],\n",
       "         [29, 30, 31, 32]],\n",
       " \n",
       "        [[33, 34, 35, 36],\n",
       "         [37, 38, 39, 40],\n",
       "         [41, 42, 43, 44],\n",
       "         [45, 46, 47, 48]],\n",
       " \n",
       "        [[49, 50, 51, 52],\n",
       "         [53, 54, 55, 56],\n",
       "         [57, 58, 59, 60],\n",
       "         [61, 62, 63, 64]]]),\n",
       " 'E': array([[[  1,   2,   3,   4,   5],\n",
       "         [  6,   7,   8,   9,  10],\n",
       "         [ 11,  12,  13,  14,  15],\n",
       "         [ 16,  17,  18,  19,  20],\n",
       "         [ 21,  22,  23,  24,  25]],\n",
       " \n",
       "        [[ 26,  27,  28,  29,  30],\n",
       "         [ 31,  32,  33,  34,  35],\n",
       "         [ 36,  37,  38,  39,  40],\n",
       "         [ 41,  42,  43,  44,  45],\n",
       "         [ 46,  47,  48,  49,  50]],\n",
       " \n",
       "        [[ 51,  52,  53,  54,  55],\n",
       "         [ 56,  57,  58,  59,  60],\n",
       "         [ 61,  62,  63,  64,  65],\n",
       "         [ 66,  67,  68,  69,  70],\n",
       "         [ 71,  72,  73,  74,  75]],\n",
       " \n",
       "        [[ 76,  77,  78,  79,  80],\n",
       "         [ 81,  82,  83,  84,  85],\n",
       "         [ 86,  87,  88,  89,  90],\n",
       "         [ 91,  92,  93,  94,  95],\n",
       "         [ 96,  97,  98,  99, 100]],\n",
       " \n",
       "        [[101, 102, 103, 104, 105],\n",
       "         [106, 107, 108, 109, 110],\n",
       "         [111, 112, 113, 114, 115],\n",
       "         [116, 117, 118, 119, 120],\n",
       "         [121, 122, 123, 124, 125]]]),\n",
       " 'F': array([[[  1,   2,   3,   4,   5,   6],\n",
       "         [  7,   8,   9,  10,  11,  12],\n",
       "         [ 13,  14,  15,  16,  17,  18],\n",
       "         [ 19,  20,  21,  22,  23,  24],\n",
       "         [ 25,  26,  27,  28,  29,  30],\n",
       "         [ 31,  32,  33,  34,  35,  36]],\n",
       " \n",
       "        [[ 37,  38,  39,  40,  41,  42],\n",
       "         [ 43,  44,  45,  46,  47,  48],\n",
       "         [ 49,  50,  51,  52,  53,  54],\n",
       "         [ 55,  56,  57,  58,  59,  60],\n",
       "         [ 61,  62,  63,  64,  65,  66],\n",
       "         [ 67,  68,  69,  70,  71,  72]],\n",
       " \n",
       "        [[ 73,  74,  75,  76,  77,  78],\n",
       "         [ 79,  80,  81,  82,  83,  84],\n",
       "         [ 85,  86,  87,  88,  89,  90],\n",
       "         [ 91,  92,  93,  94,  95,  96],\n",
       "         [ 97,  98,  99, 100, 101, 102],\n",
       "         [103, 104, 105, 106, 107, 108]],\n",
       " \n",
       "        [[109, 110, 111, 112, 113, 114],\n",
       "         [115, 116, 117, 118, 119, 120],\n",
       "         [121, 122, 123, 124, 125, 126],\n",
       "         [127, 128, 129, 130, 131, 132],\n",
       "         [133, 134, 135, 136, 137, 138],\n",
       "         [139, 140, 141, 142, 143, 144]],\n",
       " \n",
       "        [[145, 146, 147, 148, 149, 150],\n",
       "         [151, 152, 153, 154, 155, 156],\n",
       "         [157, 158, 159, 160, 161, 162],\n",
       "         [163, 164, 165, 166, 167, 168],\n",
       "         [169, 170, 171, 172, 173, 174],\n",
       "         [175, 176, 177, 178, 179, 180]],\n",
       " \n",
       "        [[181, 182, 183, 184, 185, 186],\n",
       "         [187, 188, 189, 190, 191, 192],\n",
       "         [193, 194, 195, 196, 197, 198],\n",
       "         [199, 200, 201, 202, 203, 204],\n",
       "         [205, 206, 207, 208, 209, 210],\n",
       "         [211, 212, 213, 214, 215, 216]]]),\n",
       " 'G': array([[[  1,   2,   3,   4,   5,   6,   7],\n",
       "         [  8,   9,  10,  11,  12,  13,  14],\n",
       "         [ 15,  16,  17,  18,  19,  20,  21],\n",
       "         [ 22,  23,  24,  25,  26,  27,  28],\n",
       "         [ 29,  30,  31,  32,  33,  34,  35],\n",
       "         [ 36,  37,  38,  39,  40,  41,  42],\n",
       "         [ 43,  44,  45,  46,  47,  48,  49]],\n",
       " \n",
       "        [[ 50,  51,  52,  53,  54,  55,  56],\n",
       "         [ 57,  58,  59,  60,  61,  62,  63],\n",
       "         [ 64,  65,  66,  67,  68,  69,  70],\n",
       "         [ 71,  72,  73,  74,  75,  76,  77],\n",
       "         [ 78,  79,  80,  81,  82,  83,  84],\n",
       "         [ 85,  86,  87,  88,  89,  90,  91],\n",
       "         [ 92,  93,  94,  95,  96,  97,  98]],\n",
       " \n",
       "        [[ 99, 100, 101, 102, 103, 104, 105],\n",
       "         [106, 107, 108, 109, 110, 111, 112],\n",
       "         [113, 114, 115, 116, 117, 118, 119],\n",
       "         [120, 121, 122, 123, 124, 125, 126],\n",
       "         [127, 128, 129, 130, 131, 132, 133],\n",
       "         [134, 135, 136, 137, 138, 139, 140],\n",
       "         [141, 142, 143, 144, 145, 146, 147]],\n",
       " \n",
       "        [[148, 149, 150, 151, 152, 153, 154],\n",
       "         [155, 156, 157, 158, 159, 160, 161],\n",
       "         [162, 163, 164, 165, 166, 167, 168],\n",
       "         [169, 170, 171, 172, 173, 174, 175],\n",
       "         [176, 177, 178, 179, 180, 181, 182],\n",
       "         [183, 184, 185, 186, 187, 188, 189],\n",
       "         [190, 191, 192, 193, 194, 195, 196]],\n",
       " \n",
       "        [[197, 198, 199, 200, 201, 202, 203],\n",
       "         [204, 205, 206, 207, 208, 209, 210],\n",
       "         [211, 212, 213, 214, 215, 216, 217],\n",
       "         [218, 219, 220, 221, 222, 223, 224],\n",
       "         [225, 226, 227, 228, 229, 230, 231],\n",
       "         [232, 233, 234, 235, 236, 237, 238],\n",
       "         [239, 240, 241, 242, 243, 244, 245]],\n",
       " \n",
       "        [[246, 247, 248, 249, 250, 251, 252],\n",
       "         [253, 254, 255, 256, 257, 258, 259],\n",
       "         [260, 261, 262, 263, 264, 265, 266],\n",
       "         [267, 268, 269, 270, 271, 272, 273],\n",
       "         [274, 275, 276, 277, 278, 279, 280],\n",
       "         [281, 282, 283, 284, 285, 286, 287],\n",
       "         [288, 289, 290, 291, 292, 293, 294]],\n",
       " \n",
       "        [[295, 296, 297, 298, 299, 300, 301],\n",
       "         [302, 303, 304, 305, 306, 307, 308],\n",
       "         [309, 310, 311, 312, 313, 314, 315],\n",
       "         [316, 317, 318, 319, 320, 321, 322],\n",
       "         [323, 324, 325, 326, 327, 328, 329],\n",
       "         [330, 331, 332, 333, 334, 335, 336],\n",
       "         [337, 338, 339, 340, 341, 342, 343]]]),\n",
       " 'H': array([[[  1,   2,   3,   4,   5,   6,   7,   8],\n",
       "         [  9,  10,  11,  12,  13,  14,  15,  16],\n",
       "         [ 17,  18,  19,  20,  21,  22,  23,  24],\n",
       "         [ 25,  26,  27,  28,  29,  30,  31,  32],\n",
       "         [ 33,  34,  35,  36,  37,  38,  39,  40],\n",
       "         [ 41,  42,  43,  44,  45,  46,  47,  48],\n",
       "         [ 49,  50,  51,  52,  53,  54,  55,  56],\n",
       "         [ 57,  58,  59,  60,  61,  62,  63,  64]],\n",
       " \n",
       "        [[ 65,  66,  67,  68,  69,  70,  71,  72],\n",
       "         [ 73,  74,  75,  76,  77,  78,  79,  80],\n",
       "         [ 81,  82,  83,  84,  85,  86,  87,  88],\n",
       "         [ 89,  90,  91,  92,  93,  94,  95,  96],\n",
       "         [ 97,  98,  99, 100, 101, 102, 103, 104],\n",
       "         [105, 106, 107, 108, 109, 110, 111, 112],\n",
       "         [113, 114, 115, 116, 117, 118, 119, 120],\n",
       "         [121, 122, 123, 124, 125, 126, 127, 128]],\n",
       " \n",
       "        [[129, 130, 131, 132, 133, 134, 135, 136],\n",
       "         [137, 138, 139, 140, 141, 142, 143, 144],\n",
       "         [145, 146, 147, 148, 149, 150, 151, 152],\n",
       "         [153, 154, 155, 156, 157, 158, 159, 160],\n",
       "         [161, 162, 163, 164, 165, 166, 167, 168],\n",
       "         [169, 170, 171, 172, 173, 174, 175, 176],\n",
       "         [177, 178, 179, 180, 181, 182, 183, 184],\n",
       "         [185, 186, 187, 188, 189, 190, 191, 192]],\n",
       " \n",
       "        [[193, 194, 195, 196, 197, 198, 199, 200],\n",
       "         [201, 202, 203, 204, 205, 206, 207, 208],\n",
       "         [209, 210, 211, 212, 213, 214, 215, 216],\n",
       "         [217, 218, 219, 220, 221, 222, 223, 224],\n",
       "         [225, 226, 227, 228, 229, 230, 231, 232],\n",
       "         [233, 234, 235, 236, 237, 238, 239, 240],\n",
       "         [241, 242, 243, 244, 245, 246, 247, 248],\n",
       "         [249, 250, 251, 252, 253, 254, 255, 256]],\n",
       " \n",
       "        [[257, 258, 259, 260, 261, 262, 263, 264],\n",
       "         [265, 266, 267, 268, 269, 270, 271, 272],\n",
       "         [273, 274, 275, 276, 277, 278, 279, 280],\n",
       "         [281, 282, 283, 284, 285, 286, 287, 288],\n",
       "         [289, 290, 291, 292, 293, 294, 295, 296],\n",
       "         [297, 298, 299, 300, 301, 302, 303, 304],\n",
       "         [305, 306, 307, 308, 309, 310, 311, 312],\n",
       "         [313, 314, 315, 316, 317, 318, 319, 320]],\n",
       " \n",
       "        [[321, 322, 323, 324, 325, 326, 327, 328],\n",
       "         [329, 330, 331, 332, 333, 334, 335, 336],\n",
       "         [337, 338, 339, 340, 341, 342, 343, 344],\n",
       "         [345, 346, 347, 348, 349, 350, 351, 352],\n",
       "         [353, 354, 355, 356, 357, 358, 359, 360],\n",
       "         [361, 362, 363, 364, 365, 366, 367, 368],\n",
       "         [369, 370, 371, 372, 373, 374, 375, 376],\n",
       "         [377, 378, 379, 380, 381, 382, 383, 384]],\n",
       " \n",
       "        [[385, 386, 387, 388, 389, 390, 391, 392],\n",
       "         [393, 394, 395, 396, 397, 398, 399, 400],\n",
       "         [401, 402, 403, 404, 405, 406, 407, 408],\n",
       "         [409, 410, 411, 412, 413, 414, 415, 416],\n",
       "         [417, 418, 419, 420, 421, 422, 423, 424],\n",
       "         [425, 426, 427, 428, 429, 430, 431, 432],\n",
       "         [433, 434, 435, 436, 437, 438, 439, 440],\n",
       "         [441, 442, 443, 444, 445, 446, 447, 448]],\n",
       " \n",
       "        [[449, 450, 451, 452, 453, 454, 455, 456],\n",
       "         [457, 458, 459, 460, 461, 462, 463, 464],\n",
       "         [465, 466, 467, 468, 469, 470, 471, 472],\n",
       "         [473, 474, 475, 476, 477, 478, 479, 480],\n",
       "         [481, 482, 483, 484, 485, 486, 487, 488],\n",
       "         [489, 490, 491, 492, 493, 494, 495, 496],\n",
       "         [497, 498, 499, 500, 501, 502, 503, 504],\n",
       "         [505, 506, 507, 508, 509, 510, 511, 512]]])}"
      ]
     },
     "execution_count": 11,
     "metadata": {},
     "output_type": "execute_result"
    }
   ],
   "source": [
    "\n",
    "import numpy as np\n",
    "\n",
    "my_list = {}\n",
    "for i in range(1, 9):\n",
    "    key = chr(64 + i)  \n",
    "    my_list[key] = np.arange(1, i**3 + 1).reshape((i,) * 3)  \n",
    "\n",
    "my_list"
   ]
  },
  {
   "cell_type": "markdown",
   "metadata": {
    "id": "mZExH8G6Qr-s"
   },
   "source": [
    "* Run the following code:"
   ]
  },
  {
   "cell_type": "code",
   "execution_count": 13,
   "metadata": {
    "colab": {
     "base_uri": "https://localhost:8080/"
    },
    "id": "iV2anQ8cQBw_",
    "outputId": "c9bf96a4-5f98-41f8-9ef6-2b95f9ccfeb9"
   },
   "outputs": [
    {
     "name": "stdout",
     "output_type": "stream",
     "text": [
      "Key: A, Size: 144 bytes\n",
      "Key: B, Size: 144 bytes\n",
      "Key: C, Size: 144 bytes\n",
      "Key: D, Size: 144 bytes\n",
      "Key: E, Size: 144 bytes\n",
      "Key: F, Size: 144 bytes\n",
      "Key: G, Size: 144 bytes\n",
      "Key: H, Size: 144 bytes\n"
     ]
    }
   ],
   "source": [
    "import sys\n",
    "\n",
    "sizes = {key: sys.getsizeof(value) for key, value in my_list.items()}\n",
    "\n",
    "\n",
    "# Print the sizes\n",
    "for key, size in sizes.items():\n",
    "    print(f\"Key: {key}, Size: {size} bytes\")"
   ]
  },
  {
   "cell_type": "markdown",
   "metadata": {
    "id": "GG32YkXnSxqM"
   },
   "source": [
    "- Create vector `v` consisting of all numbers from -100 to 100 and test using the second line of code"
   ]
  },
  {
   "cell_type": "code",
   "execution_count": 15,
   "metadata": {
    "colab": {
     "base_uri": "https://localhost:8080/"
    },
    "id": "LnkySK_uSSlb",
    "outputId": "b0de8d3e-cc41-4123-f08c-0a03e395b3d5"
   },
   "outputs": [
    {
     "name": "stdout",
     "output_type": "stream",
     "text": [
      "[-100  -99  -98  -97  -96  -95  -94  -93  -92  -91  -90  -89  -88  -87\n",
      "  -86  -85  -84  -83  -82  -81  -80  -79  -78  -77  -76  -75  -74  -73\n",
      "  -72  -71  -70  -69  -68  -67  -66  -65  -64  -63  -62  -61  -60  -59\n",
      "  -58  -57  -56  -55  -54  -53  -52  -51  -50  -49  -48  -47  -46  -45\n",
      "  -44  -43  -42  -41  -40  -39  -38  -37  -36  -35  -34  -33  -32  -31\n",
      "  -30  -29  -28  -27  -26  -25  -24  -23  -22  -21  -20  -19  -18  -17\n",
      "  -16  -15  -14  -13  -12  -11  -10   -9   -8   -7   -6   -5   -4   -3\n",
      "   -2   -1    0    1    2    3    4    5    6    7    8    9   10   11\n",
      "   12   13   14   15   16   17   18   19   20   21   22   23   24   25\n",
      "   26   27   28   29   30   31   32   33   34   35   36   37   38   39\n",
      "   40   41   42   43   44   45   46   47   48   49   50   51   52   53\n",
      "   54   55   56   57   58   59   60   61   62   63   64   65   66   67\n",
      "   68   69   70   71   72   73   74   75   76   77   78   79   80   81\n",
      "   82   83   84   85   86   87   88   89   90   91   92   93   94   95\n",
      "   96   97   98   99  100]\n",
      "201\n",
      "-100 100\n"
     ]
    }
   ],
   "source": [
    "import numpy as np\n",
    "\n",
    "v = np.arange(-100, 101)\n",
    "print(v) \n",
    "print(len(v))  \n",
    "print(v[0], v[-1]) "
   ]
  },
  {
   "cell_type": "markdown",
   "metadata": {
    "id": "dH4AjtFUVphe"
   },
   "source": [
    "* Test the `my_reverse` function using the following code:"
   ]
  },
  {
   "cell_type": "code",
   "execution_count": 17,
   "metadata": {
    "colab": {
     "base_uri": "https://localhost:8080/"
    },
    "id": "zAJAaua1SbqD",
    "outputId": "f1922dde-f8d2-47a8-edd5-f0d70144d9c2"
   },
   "outputs": [
    {
     "ename": "NameError",
     "evalue": "name 'my_reverse' is not defined",
     "output_type": "error",
     "traceback": [
      "\u001b[0;31m---------------------------------------------------------------------------\u001b[0m",
      "\u001b[0;31mNameError\u001b[0m                                 Traceback (most recent call last)",
      "Cell \u001b[0;32mIn[17], line 3\u001b[0m\n\u001b[1;32m      1\u001b[0m \u001b[38;5;66;03m# Test the function\u001b[39;00m\n\u001b[1;32m      2\u001b[0m v \u001b[38;5;241m=\u001b[39m \u001b[38;5;28mlist\u001b[39m(\u001b[38;5;28mrange\u001b[39m(\u001b[38;5;241m1\u001b[39m, \u001b[38;5;241m11\u001b[39m))\n\u001b[0;32m----> 3\u001b[0m v_reversed \u001b[38;5;241m=\u001b[39m my_reverse(v)\n\u001b[1;32m      4\u001b[0m \u001b[38;5;28mprint\u001b[39m(v)\n\u001b[1;32m      5\u001b[0m \u001b[38;5;28mprint\u001b[39m(v_reversed)\n",
      "\u001b[0;31mNameError\u001b[0m: name 'my_reverse' is not defined"
     ]
    }
   ],
   "source": [
    "# Test the function\n",
    "v = list(range(1, 11))\n",
    "v_reversed = my_reverse(v)\n",
    "print(v)\n",
    "print(v_reversed)\n",
    "type(v_reversed)\n",
    "\n",
    "assert my_reverse(v) == v[::-1], \"my_reverse failed for numerical vector\"\n",
    "\n",
    " # Test with character vector\n",
    "v_char = [\"A\", \"B\", \"C\"]\n",
    "assert my_reverse(v_char) == v_char[::-1], \"my_reverse failed for character vector\""
   ]
  },
  {
   "cell_type": "markdown",
   "metadata": {
    "id": "B4ch5SmkVzfz"
   },
   "source": [
    "## A little about strings\n",
    "\n",
    "* Use the `re.split` function by importing the re module and `random` from the random module to put the sentences in the string `lorem` below in random order. You will also need to manipulate the output of `re.split` which is a list. You may need to learn basic concepts of regular expressions."
   ]
  },
  {
   "cell_type": "code",
   "execution_count": 19,
   "metadata": {
    "colab": {
     "base_uri": "https://localhost:8080/"
    },
    "id": "tVRqWzFCVzAX",
    "outputId": "c58a0650-9033-4ef6-d02e-4f3f6ee21251"
   },
   "outputs": [],
   "source": [
    "import re\n",
    "import random\n",
    "\n",
    "lorem = \"\"\"Lorem ipsum dolor sit amet, consectetur adipiscing elit.\n",
    "Morbi posuere varius volutpat. Morbi faucibus ligula id massa ultricies viverra.\n",
    "Donec vehicula sagittis nisi non semper. Donec at tempor erat.\n",
    "Integer dapibus mi lectus, eu posuere arcu ultricies in.\n",
    "Cras suscipit id nibh lacinia elementum. Curabitur est augue, congue eget quam in, scelerisque semper magna.\n",
    "Aenean nulla ante, iaculis sed vehicula ac, finibus vel arcu. Mauris at sodales augue.\"\"\"\n",
    "\n"
   ]
  },
  {
   "cell_type": "markdown",
   "metadata": {
    "id": "40eoQu9LWrBo"
   },
   "source": [
    "* You have a set of names divided by gender (M / F) and generation (Boomer / GenX / Millenial):\n",
    "\n",
    "M / Boomer      \"Theodore, Bernard, Gene, Herbert, Ray, Tom, Lee, Alfred, Leroy, Eddie\"\n",
    "\n",
    "M / GenX        \"Marc, Jamie, Greg, Darryl, Tim, Dean, Jon, Chris, Troy, Jeff\"\n",
    "\n",
    "M / Millennial  \"Zachary, Dylan, Christian, Wesley, Seth, Austin, Gabriel, Evan, Casey, Luis\"\n",
    "\n",
    "F / Boomer      \"Gloria, Joan, Dorothy, Shirley, Betty, Dianne, Kay, Marjorie, Lorraine, Mildred\"\n",
    "\n",
    "F / GenX        \"Tracy, Dawn, Tina, Tammy, Melinda, Tamara, Tracey, Colleen, Sherri, Heidi\"\n",
    "\n",
    "F / Millennial  \"Samantha, Alexis, Brittany, Lauren, Taylor, Bethany, Latoya, Candice, Brittney, Cheyenne\"\n",
    "\n",
    "Create python dictionary to store this data.\n"
   ]
  },
  {
   "cell_type": "code",
   "execution_count": 21,
   "metadata": {
    "colab": {
     "base_uri": "https://localhost:8080/"
    },
    "id": "KMpxbhglWYoA",
    "outputId": "334af4d7-a902-4c79-c3fe-03988d6654ab"
   },
   "outputs": [],
   "source": [
    "names = {\n",
    "    \"M\": {\n",
    "        \"Boomer\": [\"Theodore\", \"Bernard\", \"Gene\", \"Herbert\", \"Ray\", \"Tom\", \"Lee\", \"Alfred\", \"Leroy\", \"Eddie\"],\n",
    "        \"GenX\": [\"Marc\", \"Jamie\", \"Greg\", \"Darryl\", \"Tim\", \"Dean\", \"Jon\", \"Chris\", \"Troy\", \"Jeff\"],\n",
    "        \"Millennial\": [\"Zachary\", \"Dylan\", \"Christian\", \"Wesley\", \"Seth\", \"Austin\", \"Gabriel\", \"Evan\", \"Casey\", \"Luis\"]\n",
    "    },\n",
    "    \"F\": {\n",
    "        \"Boomer\": [\"Gloria\", \"Joan\", \"Dorothy\", \"Shirley\", \"Betty\", \"Dianne\", \"Kay\", \"Marjorie\", \"Lorraine\", \"Mildred\"],\n",
    "        \"GenX\": [\"Tracy\", \"Dawn\", \"Tina\", \"Tammy\", \"Melinda\", \"Tamara\", \"Tracey\", \"Colleen\", \"Sherri\", \"Heidi\"],\n",
    "        \"Millennial\": [\"Samantha\", \"Alexis\", \"Brittany\", \"Lauren\", \"Taylor\", \"Bethany\", \"Latoya\", \"Candice\", \"Brittney\", \"Cheyenne\"]\n",
    "    }\n",
    "}\n",
    "\n"
   ]
  },
  {
   "cell_type": "markdown",
   "metadata": {
    "id": "mE0YVNtiWzC2"
   },
   "source": [
    "* Now cleanup the namespace by deleting all stored objects and functions:"
   ]
  },
  {
   "cell_type": "code",
   "execution_count": 23,
   "metadata": {
    "colab": {
     "base_uri": "https://localhost:8080/"
    },
    "id": "cqUJBY1uWzty",
    "outputId": "7a5eae8c-2613-4e44-a460-25d06818e769"
   },
   "outputs": [],
   "source": [
    "globals().clear()\n"
   ]
  }
 ],
 "metadata": {
  "colab": {
   "provenance": []
  },
  "kernelspec": {
   "display_name": "Python [conda env:base] *",
   "language": "python",
   "name": "conda-base-py"
  },
  "language_info": {
   "codemirror_mode": {
    "name": "ipython",
    "version": 3
   },
   "file_extension": ".py",
   "mimetype": "text/x-python",
   "name": "python",
   "nbconvert_exporter": "python",
   "pygments_lexer": "ipython3",
   "version": "3.12.7"
  }
 },
 "nbformat": 4,
 "nbformat_minor": 4
}
